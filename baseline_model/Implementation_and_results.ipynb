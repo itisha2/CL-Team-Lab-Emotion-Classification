{
 "cells": [
  {
   "cell_type": "code",
   "execution_count": 4,
   "outputs": [
    {
     "name": "stdout",
     "output_type": "stream",
     "text": [
      "1. Training Data Loaded: Shape =  (5326, 2)\n",
      "2. Test Data Loaded: Shape =  (2293, 2)\n",
      "3. Classifier fit to the data!\n",
      "4. Got predictions!\n",
      "5. View results: \n",
      "\n"
     ]
    },
    {
     "data": {
      "text/plain": "               Precision  Recall  F1-Score   Count\nfear                0.56    0.55      0.55   335.0\nanger               0.33    0.41      0.37   336.0\nguilt               0.45    0.34      0.39   320.0\njoy                 0.64    0.48      0.55   313.0\nshame               0.34    0.53      0.41   331.0\ndisgust             0.44    0.54      0.48   332.0\nsadness             0.57    0.52      0.54   326.0\nmacro_average       0.47    0.48      0.47  2293.0",
      "text/html": "<div>\n<style scoped>\n    .dataframe tbody tr th:only-of-type {\n        vertical-align: middle;\n    }\n\n    .dataframe tbody tr th {\n        vertical-align: top;\n    }\n\n    .dataframe thead th {\n        text-align: right;\n    }\n</style>\n<table border=\"1\" class=\"dataframe\">\n  <thead>\n    <tr style=\"text-align: right;\">\n      <th></th>\n      <th>Precision</th>\n      <th>Recall</th>\n      <th>F1-Score</th>\n      <th>Count</th>\n    </tr>\n  </thead>\n  <tbody>\n    <tr>\n      <th>fear</th>\n      <td>0.56</td>\n      <td>0.55</td>\n      <td>0.55</td>\n      <td>335.0</td>\n    </tr>\n    <tr>\n      <th>anger</th>\n      <td>0.33</td>\n      <td>0.41</td>\n      <td>0.37</td>\n      <td>336.0</td>\n    </tr>\n    <tr>\n      <th>guilt</th>\n      <td>0.45</td>\n      <td>0.34</td>\n      <td>0.39</td>\n      <td>320.0</td>\n    </tr>\n    <tr>\n      <th>joy</th>\n      <td>0.64</td>\n      <td>0.48</td>\n      <td>0.55</td>\n      <td>313.0</td>\n    </tr>\n    <tr>\n      <th>shame</th>\n      <td>0.34</td>\n      <td>0.53</td>\n      <td>0.41</td>\n      <td>331.0</td>\n    </tr>\n    <tr>\n      <th>disgust</th>\n      <td>0.44</td>\n      <td>0.54</td>\n      <td>0.48</td>\n      <td>332.0</td>\n    </tr>\n    <tr>\n      <th>sadness</th>\n      <td>0.57</td>\n      <td>0.52</td>\n      <td>0.54</td>\n      <td>326.0</td>\n    </tr>\n    <tr>\n      <th>macro_average</th>\n      <td>0.47</td>\n      <td>0.48</td>\n      <td>0.47</td>\n      <td>2293.0</td>\n    </tr>\n  </tbody>\n</table>\n</div>"
     },
     "execution_count": 4,
     "metadata": {},
     "output_type": "execute_result"
    }
   ],
   "source": [
    "import pipeline\n",
    "\n",
    "\"\"\"\n",
    "Model-1: Training and Evaluation\n",
    "all 7 classes\n",
    "\"\"\"\n",
    "\n",
    "train_labels_1 = [\"fear\", \"anger\", \"guilt\", \"joy\", \"shame\", \"disgust\", \"sadness\"]\n",
    "results = pipeline.main(train_labels_1)\n",
    "results"
   ],
   "metadata": {
    "collapsed": false,
    "pycharm": {
     "name": "#%%\n"
    }
   }
  },
  {
   "cell_type": "code",
   "execution_count": 5,
   "outputs": [
    {
     "name": "stdout",
     "output_type": "stream",
     "text": [
      "1. Training Data Loaded: Shape =  (1537, 2)\n",
      "2. Test Data Loaded: Shape =  (639, 2)\n",
      "3. Classifier fit to the data!\n",
      "4. Got predictions!\n",
      "5. View results: \n",
      "\n"
     ]
    },
    {
     "data": {
      "text/plain": "               Precision  Recall  F1-Score  Count\njoy                 0.77    0.78      0.77  313.0\nsadness             0.80    0.78      0.79  326.0\nmacro_average       0.79    0.78      0.78  639.0",
      "text/html": "<div>\n<style scoped>\n    .dataframe tbody tr th:only-of-type {\n        vertical-align: middle;\n    }\n\n    .dataframe tbody tr th {\n        vertical-align: top;\n    }\n\n    .dataframe thead th {\n        text-align: right;\n    }\n</style>\n<table border=\"1\" class=\"dataframe\">\n  <thead>\n    <tr style=\"text-align: right;\">\n      <th></th>\n      <th>Precision</th>\n      <th>Recall</th>\n      <th>F1-Score</th>\n      <th>Count</th>\n    </tr>\n  </thead>\n  <tbody>\n    <tr>\n      <th>joy</th>\n      <td>0.77</td>\n      <td>0.78</td>\n      <td>0.77</td>\n      <td>313.0</td>\n    </tr>\n    <tr>\n      <th>sadness</th>\n      <td>0.80</td>\n      <td>0.78</td>\n      <td>0.79</td>\n      <td>326.0</td>\n    </tr>\n    <tr>\n      <th>macro_average</th>\n      <td>0.79</td>\n      <td>0.78</td>\n      <td>0.78</td>\n      <td>639.0</td>\n    </tr>\n  </tbody>\n</table>\n</div>"
     },
     "execution_count": 5,
     "metadata": {},
     "output_type": "execute_result"
    }
   ],
   "source": [
    "\n",
    "\"\"\"\n",
    "Model-2:  Training and Evaluation\n",
    "For Joy and Sadness\n",
    "\"\"\"\n",
    "\n",
    "train_labels_2=[\"joy\", \"sadness\"]\n",
    "results = pipeline.main(train_labels_2)\n",
    "results"
   ],
   "metadata": {
    "collapsed": false,
    "pycharm": {
     "name": "#%%\n"
    }
   }
  },
  {
   "cell_type": "code",
   "execution_count": 6,
   "outputs": [
    {
     "name": "stdout",
     "output_type": "stream",
     "text": [
      "1. Training Data Loaded: Shape =  (2280, 2)\n",
      "2. Test Data Loaded: Shape =  (983, 2)\n",
      "3. Classifier fit to the data!\n",
      "4. Got predictions!\n",
      "5. View results: \n",
      "\n"
     ]
    },
    {
     "data": {
      "text/plain": "               Precision  Recall  F1-Score  Count\ndisgust             0.55    0.71      0.62  332.0\nguilt               0.74    0.52      0.61  320.0\nshame               0.48    0.60      0.53  331.0\nmacro_average       0.59    0.61      0.59  983.0",
      "text/html": "<div>\n<style scoped>\n    .dataframe tbody tr th:only-of-type {\n        vertical-align: middle;\n    }\n\n    .dataframe tbody tr th {\n        vertical-align: top;\n    }\n\n    .dataframe thead th {\n        text-align: right;\n    }\n</style>\n<table border=\"1\" class=\"dataframe\">\n  <thead>\n    <tr style=\"text-align: right;\">\n      <th></th>\n      <th>Precision</th>\n      <th>Recall</th>\n      <th>F1-Score</th>\n      <th>Count</th>\n    </tr>\n  </thead>\n  <tbody>\n    <tr>\n      <th>disgust</th>\n      <td>0.55</td>\n      <td>0.71</td>\n      <td>0.62</td>\n      <td>332.0</td>\n    </tr>\n    <tr>\n      <th>guilt</th>\n      <td>0.74</td>\n      <td>0.52</td>\n      <td>0.61</td>\n      <td>320.0</td>\n    </tr>\n    <tr>\n      <th>shame</th>\n      <td>0.48</td>\n      <td>0.60</td>\n      <td>0.53</td>\n      <td>331.0</td>\n    </tr>\n    <tr>\n      <th>macro_average</th>\n      <td>0.59</td>\n      <td>0.61</td>\n      <td>0.59</td>\n      <td>983.0</td>\n    </tr>\n  </tbody>\n</table>\n</div>"
     },
     "execution_count": 6,
     "metadata": {},
     "output_type": "execute_result"
    }
   ],
   "source": [
    "\n",
    "\"\"\"\n",
    "# Model-3:  Training and Evaluation\n",
    "For Disgust, Guilt and Shame\n",
    "\"\"\"\n",
    "\n",
    "train_labels_3=[\"disgust\", \"guilt\", \"shame\"]\n",
    "results = pipeline.main(train_labels_3)\n",
    "results"
   ],
   "metadata": {
    "collapsed": false,
    "pycharm": {
     "name": "#%%\n"
    }
   }
  },
  {
   "cell_type": "code",
   "execution_count": null,
   "outputs": [],
   "source": [],
   "metadata": {
    "collapsed": false,
    "pycharm": {
     "name": "#%%\n"
    }
   }
  }
 ],
 "metadata": {
  "kernelspec": {
   "display_name": "Python 3",
   "language": "python",
   "name": "python3"
  },
  "language_info": {
   "codemirror_mode": {
    "name": "ipython",
    "version": 2
   },
   "file_extension": ".py",
   "mimetype": "text/x-python",
   "name": "python",
   "nbconvert_exporter": "python",
   "pygments_lexer": "ipython2",
   "version": "2.7.6"
  }
 },
 "nbformat": 4,
 "nbformat_minor": 0
}