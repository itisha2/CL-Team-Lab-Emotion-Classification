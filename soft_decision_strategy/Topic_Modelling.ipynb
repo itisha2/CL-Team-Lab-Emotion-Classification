{
 "cells": [
  {
   "cell_type": "code",
   "execution_count": 1,
   "metadata": {
    "collapsed": true
   },
   "outputs": [
    {
     "data": {
      "text/plain": "                                                      0    1         2  \\\n0     When I understood that I was admitted to the U...  4.0 -4.143373   \n1     I broke a window of a neighbouring house and I...  1.0 -4.454488   \n2                            Got a big fish in fishing.  4.0 -3.871844   \n3     Whenever I am alone in a dark room, walk alone...  1.0 -4.045258   \n4     I bought a possible answer to a homework probl...  5.0 -4.648178   \n...                                                 ...  ...       ...   \n1140  Not being a good host for a friend from a far ...  3.0 -3.077817   \n1141  I had a very horrible dream one night, I dream...  1.0 -4.497149   \n1142  My sweetheart left me, or rather we decided to...  0.0  2.665590   \n1143                   My boyfriend made me a proposal.  4.0 -4.251548   \n1144  I am disgusted with liers, hypocrites, slander...  6.0 -3.587851   \n\n             3         4         5         6         7         8  \n0    -4.099311 -4.180825 -3.873905  3.270709 -3.883025 -3.976190  \n1     2.634034 -3.970481 -3.600777 -4.260800 -3.508614 -4.351669  \n2    -4.237987 -4.067472 -3.916490  3.443163 -4.022819 -3.743179  \n3     3.200204 -3.871938 -3.878467 -4.119332 -3.877209 -3.389095  \n4    -4.786387 -1.271109 -2.308218 -4.468682  0.195158 -2.507853  \n...        ...       ...       ...       ...       ...       ...  \n1140 -5.027366 -3.306948  1.170537 -5.571788 -1.354663 -2.787492  \n1141  2.975088 -3.899056 -3.790592 -4.291361 -3.033495 -3.544418  \n1142 -4.259548 -3.877426 -3.458135 -3.568334 -3.607715 -3.872411  \n1143 -4.527634 -3.848884 -4.058742  3.007751 -3.362574 -4.002860  \n1144 -3.542270 -3.460089 -3.469225 -3.664184 -3.535312  3.006108  \n\n[7619 rows x 9 columns]",
      "text/html": "<div>\n<style scoped>\n    .dataframe tbody tr th:only-of-type {\n        vertical-align: middle;\n    }\n\n    .dataframe tbody tr th {\n        vertical-align: top;\n    }\n\n    .dataframe thead th {\n        text-align: right;\n    }\n</style>\n<table border=\"1\" class=\"dataframe\">\n  <thead>\n    <tr style=\"text-align: right;\">\n      <th></th>\n      <th>0</th>\n      <th>1</th>\n      <th>2</th>\n      <th>3</th>\n      <th>4</th>\n      <th>5</th>\n      <th>6</th>\n      <th>7</th>\n      <th>8</th>\n    </tr>\n  </thead>\n  <tbody>\n    <tr>\n      <th>0</th>\n      <td>When I understood that I was admitted to the U...</td>\n      <td>4.0</td>\n      <td>-4.143373</td>\n      <td>-4.099311</td>\n      <td>-4.180825</td>\n      <td>-3.873905</td>\n      <td>3.270709</td>\n      <td>-3.883025</td>\n      <td>-3.976190</td>\n    </tr>\n    <tr>\n      <th>1</th>\n      <td>I broke a window of a neighbouring house and I...</td>\n      <td>1.0</td>\n      <td>-4.454488</td>\n      <td>2.634034</td>\n      <td>-3.970481</td>\n      <td>-3.600777</td>\n      <td>-4.260800</td>\n      <td>-3.508614</td>\n      <td>-4.351669</td>\n    </tr>\n    <tr>\n      <th>2</th>\n      <td>Got a big fish in fishing.</td>\n      <td>4.0</td>\n      <td>-3.871844</td>\n      <td>-4.237987</td>\n      <td>-4.067472</td>\n      <td>-3.916490</td>\n      <td>3.443163</td>\n      <td>-4.022819</td>\n      <td>-3.743179</td>\n    </tr>\n    <tr>\n      <th>3</th>\n      <td>Whenever I am alone in a dark room, walk alone...</td>\n      <td>1.0</td>\n      <td>-4.045258</td>\n      <td>3.200204</td>\n      <td>-3.871938</td>\n      <td>-3.878467</td>\n      <td>-4.119332</td>\n      <td>-3.877209</td>\n      <td>-3.389095</td>\n    </tr>\n    <tr>\n      <th>4</th>\n      <td>I bought a possible answer to a homework probl...</td>\n      <td>5.0</td>\n      <td>-4.648178</td>\n      <td>-4.786387</td>\n      <td>-1.271109</td>\n      <td>-2.308218</td>\n      <td>-4.468682</td>\n      <td>0.195158</td>\n      <td>-2.507853</td>\n    </tr>\n    <tr>\n      <th>...</th>\n      <td>...</td>\n      <td>...</td>\n      <td>...</td>\n      <td>...</td>\n      <td>...</td>\n      <td>...</td>\n      <td>...</td>\n      <td>...</td>\n      <td>...</td>\n    </tr>\n    <tr>\n      <th>1140</th>\n      <td>Not being a good host for a friend from a far ...</td>\n      <td>3.0</td>\n      <td>-3.077817</td>\n      <td>-5.027366</td>\n      <td>-3.306948</td>\n      <td>1.170537</td>\n      <td>-5.571788</td>\n      <td>-1.354663</td>\n      <td>-2.787492</td>\n    </tr>\n    <tr>\n      <th>1141</th>\n      <td>I had a very horrible dream one night, I dream...</td>\n      <td>1.0</td>\n      <td>-4.497149</td>\n      <td>2.975088</td>\n      <td>-3.899056</td>\n      <td>-3.790592</td>\n      <td>-4.291361</td>\n      <td>-3.033495</td>\n      <td>-3.544418</td>\n    </tr>\n    <tr>\n      <th>1142</th>\n      <td>My sweetheart left me, or rather we decided to...</td>\n      <td>0.0</td>\n      <td>2.665590</td>\n      <td>-4.259548</td>\n      <td>-3.877426</td>\n      <td>-3.458135</td>\n      <td>-3.568334</td>\n      <td>-3.607715</td>\n      <td>-3.872411</td>\n    </tr>\n    <tr>\n      <th>1143</th>\n      <td>My boyfriend made me a proposal.</td>\n      <td>4.0</td>\n      <td>-4.251548</td>\n      <td>-4.527634</td>\n      <td>-3.848884</td>\n      <td>-4.058742</td>\n      <td>3.007751</td>\n      <td>-3.362574</td>\n      <td>-4.002860</td>\n    </tr>\n    <tr>\n      <th>1144</th>\n      <td>I am disgusted with liers, hypocrites, slander...</td>\n      <td>6.0</td>\n      <td>-3.587851</td>\n      <td>-3.542270</td>\n      <td>-3.460089</td>\n      <td>-3.469225</td>\n      <td>-3.664184</td>\n      <td>-3.535312</td>\n      <td>3.006108</td>\n    </tr>\n  </tbody>\n</table>\n<p>7619 rows × 9 columns</p>\n</div>"
     },
     "execution_count": 1,
     "metadata": {},
     "output_type": "execute_result"
    }
   ],
   "source": [
    "import pandas as pd\n",
    "\n",
    "\"\"\"\n",
    "Reading the bert output\n",
    "\"\"\"\n",
    "\n",
    "mapping = {1: \"fear\", 2: \"anger\", 3: \"guilt\", 4: \"joy\", 5: \"shame\", 6: \"disgust\", 0: \"sadness\"}\n",
    "\n",
    "drop_col = [9, 10, 11, 12, 13, 14, 15]\n",
    "bert_train = pd.read_csv(\"train-16.csv\", header=None, on_bad_lines='skip', delimiter=\"|\").drop(columns=drop_col)\n",
    "bert_val = pd.read_csv(\"val-16.csv\", header=None, on_bad_lines='skip', delimiter=\"|\").drop(columns=drop_col)\n",
    "bert_test = pd.read_csv(\"test-16.csv\", header=None, on_bad_lines='skip', delimiter=\"|\").drop(columns=drop_col)\n",
    "\n",
    "bert_all = pd.concat([bert_train, bert_val, bert_test])\n",
    "bert_all"
   ]
  },
  {
   "cell_type": "code",
   "execution_count": null,
   "outputs": [],
   "source": [],
   "metadata": {
    "collapsed": false,
    "pycharm": {
     "name": "#%%\n"
    }
   }
  }
 ],
 "metadata": {
  "kernelspec": {
   "display_name": "Python 3",
   "language": "python",
   "name": "python3"
  },
  "language_info": {
   "codemirror_mode": {
    "name": "ipython",
    "version": 2
   },
   "file_extension": ".py",
   "mimetype": "text/x-python",
   "name": "python",
   "nbconvert_exporter": "python",
   "pygments_lexer": "ipython2",
   "version": "2.7.6"
  }
 },
 "nbformat": 4,
 "nbformat_minor": 0
}