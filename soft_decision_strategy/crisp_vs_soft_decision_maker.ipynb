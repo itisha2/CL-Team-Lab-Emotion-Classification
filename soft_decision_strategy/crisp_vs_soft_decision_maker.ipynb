{
 "cells": [
  {
   "cell_type": "code",
   "execution_count": 75,
   "metadata": {
    "collapsed": true
   },
   "outputs": [],
   "source": [
    "import pandas as pd\n",
    "\n",
    "\"\"\"\n",
    "Reading the bert output\n",
    "\"\"\"\n",
    "\n",
    "mapping = {1: \"fear\", 2: \"anger\", 3: \"guilt\", 4: \"joy\", 5: \"shame\", 6: \"disgust\", 0: \"sadness\"}\n",
    "\n",
    "drop_col = [9, 10, 11, 12, 13, 14, 15]\n",
    "bert_train = pd.read_csv(\"train-16.csv\", header=None, on_bad_lines='skip', delimiter=\"|\").drop(columns=drop_col)\n",
    "bert_val = pd.read_csv(\"val-16.csv\", header=None, on_bad_lines='skip', delimiter=\"|\").drop(columns=drop_col)\n",
    "bert_test = pd.read_csv(\"test-16.csv\", header=None, on_bad_lines='skip', delimiter=\"|\").drop(columns=drop_col)\n",
    "\n",
    "bert_all = pd.concat([bert_train, bert_val, bert_test])\n",
    "\"\"\"\n",
    "Reading the train, val , test data\n",
    "\"\"\"\n",
    "\"\"\"\n",
    "train = pd.read_csv(\"/Users/ItishaYadav1/CL-Team-Lab-Emotion-Classification/data/isear/isear-train.csv\", on_bad_lines='skip', header=None)\n",
    "print(\"Training data shape = \", train.shape)\n",
    "val = pd.read_csv(\"/Users/ItishaYadav1/CL-Team-Lab-Emotion-Classification/data/isear/isear-val.csv\", header=None)\n",
    "print(\"Validation data shape = \", val.shape)\n",
    "test = pd.read_csv(\"/Users/ItishaYadav1/CL-Team-Lab-Emotion-Classification/data/isear/isear-test.csv\", header=None)\n",
    "print(\"Test data shape = \", test.shape)\n",
    "\"\"\"\n",
    "import numpy as np\n",
    "import hashlib\n",
    "\n",
    "def get_prediction(df):\n",
    "    pred = []\n",
    "    match = []\n",
    "    hash = []\n",
    "    conf = []\n",
    "    for ind, row in df.iterrows():\n",
    "        m = 0\n",
    "        hash_object = hashlib.sha256(row[0].encode('utf-8'))\n",
    "        hex_dig = hash_object.hexdigest()\n",
    "        hash.append(hex_dig)\n",
    "        proba = list(row[[2, 3, 4, 5, 6, 7, 8]])\n",
    "        largest = np.argmax(proba)\n",
    "        if float(largest) == row[1]:\n",
    "            m = 1\n",
    "        match.append(m)\n",
    "        pred.append(float(largest))\n",
    "        proba.sort(reverse=True)\n",
    "        conf.append([hex_dig, m] + proba)\n",
    "\n",
    "    df[\"predictions\"] = pred\n",
    "    df[\"match\"] = match\n",
    "    df[\"_id\"] = hash\n",
    "    df = df.rename(columns={0: \"sentence\", 1: \"ytrue\"})\n",
    "\n",
    "    return df, pd.DataFrame(conf)\n",
    "\n",
    "bert_all, conf_df = get_prediction(bert_all)\n"
   ]
  },
  {
   "cell_type": "code",
   "execution_count": 76,
   "outputs": [
    {
     "data": {
      "text/plain": "                                               sentence  ytrue         2  \\\n0     When I understood that I was admitted to the U...    4.0 -4.143373   \n1     I broke a window of a neighbouring house and I...    1.0 -4.454488   \n2                            Got a big fish in fishing.    4.0 -3.871844   \n3     Whenever I am alone in a dark room, walk alone...    1.0 -4.045258   \n4     I bought a possible answer to a homework probl...    5.0 -4.648178   \n...                                                 ...    ...       ...   \n1140  Not being a good host for a friend from a far ...    3.0 -3.077817   \n1141  I had a very horrible dream one night, I dream...    1.0 -4.497149   \n1142  My sweetheart left me, or rather we decided to...    0.0  2.665590   \n1143                   My boyfriend made me a proposal.    4.0 -4.251548   \n1144  I am disgusted with liers, hypocrites, slander...    6.0 -3.587851   \n\n             3         4         5         6         7         8  predictions  \\\n0    -4.099311 -4.180825 -3.873905  3.270709 -3.883025 -3.976190          4.0   \n1     2.634034 -3.970481 -3.600777 -4.260800 -3.508614 -4.351669          1.0   \n2    -4.237987 -4.067472 -3.916490  3.443163 -4.022819 -3.743179          4.0   \n3     3.200204 -3.871938 -3.878467 -4.119332 -3.877209 -3.389095          1.0   \n4    -4.786387 -1.271109 -2.308218 -4.468682  0.195158 -2.507853          5.0   \n...        ...       ...       ...       ...       ...       ...          ...   \n1140 -5.027366 -3.306948  1.170537 -5.571788 -1.354663 -2.787492          3.0   \n1141  2.975088 -3.899056 -3.790592 -4.291361 -3.033495 -3.544418          1.0   \n1142 -4.259548 -3.877426 -3.458135 -3.568334 -3.607715 -3.872411          0.0   \n1143 -4.527634 -3.848884 -4.058742  3.007751 -3.362574 -4.002860          4.0   \n1144 -3.542270 -3.460089 -3.469225 -3.664184 -3.535312  3.006108          6.0   \n\n      match                                                _id  \n0         1  57496f41a1283e64bcd582095e0121d32d9f297a9526e5...  \n1         1  9f5abc554b66183e2b9de975feb3b9f02975857c4b6663...  \n2         1  bdce673da042f3c3297dde73b1c5bfade724f8e508d3fc...  \n3         1  490a81728c3228478e8f9196a09d485cd8e06b8c0512c4...  \n4         1  7db158133f1a4d68c59dc693051bfe63c47c80d906dc01...  \n...     ...                                                ...  \n1140      1  e9534a6e936543dcc8437a79899a804ffce79dac3054ee...  \n1141      1  d1a9fe0005e2d8b96fe3a97c87621da377fd26d585efd4...  \n1142      1  9715d835adb73aac1dbf805e9e8474997a614da4222656...  \n1143      1  9b088be713afaffe47f1b751f79cf0e584f93d8613819e...  \n1144      1  a39a81be5c0586a3eb01525370fefbaee556665c8a1099...  \n\n[7619 rows x 12 columns]",
      "text/html": "<div>\n<style scoped>\n    .dataframe tbody tr th:only-of-type {\n        vertical-align: middle;\n    }\n\n    .dataframe tbody tr th {\n        vertical-align: top;\n    }\n\n    .dataframe thead th {\n        text-align: right;\n    }\n</style>\n<table border=\"1\" class=\"dataframe\">\n  <thead>\n    <tr style=\"text-align: right;\">\n      <th></th>\n      <th>sentence</th>\n      <th>ytrue</th>\n      <th>2</th>\n      <th>3</th>\n      <th>4</th>\n      <th>5</th>\n      <th>6</th>\n      <th>7</th>\n      <th>8</th>\n      <th>predictions</th>\n      <th>match</th>\n      <th>_id</th>\n    </tr>\n  </thead>\n  <tbody>\n    <tr>\n      <th>0</th>\n      <td>When I understood that I was admitted to the U...</td>\n      <td>4.0</td>\n      <td>-4.143373</td>\n      <td>-4.099311</td>\n      <td>-4.180825</td>\n      <td>-3.873905</td>\n      <td>3.270709</td>\n      <td>-3.883025</td>\n      <td>-3.976190</td>\n      <td>4.0</td>\n      <td>1</td>\n      <td>57496f41a1283e64bcd582095e0121d32d9f297a9526e5...</td>\n    </tr>\n    <tr>\n      <th>1</th>\n      <td>I broke a window of a neighbouring house and I...</td>\n      <td>1.0</td>\n      <td>-4.454488</td>\n      <td>2.634034</td>\n      <td>-3.970481</td>\n      <td>-3.600777</td>\n      <td>-4.260800</td>\n      <td>-3.508614</td>\n      <td>-4.351669</td>\n      <td>1.0</td>\n      <td>1</td>\n      <td>9f5abc554b66183e2b9de975feb3b9f02975857c4b6663...</td>\n    </tr>\n    <tr>\n      <th>2</th>\n      <td>Got a big fish in fishing.</td>\n      <td>4.0</td>\n      <td>-3.871844</td>\n      <td>-4.237987</td>\n      <td>-4.067472</td>\n      <td>-3.916490</td>\n      <td>3.443163</td>\n      <td>-4.022819</td>\n      <td>-3.743179</td>\n      <td>4.0</td>\n      <td>1</td>\n      <td>bdce673da042f3c3297dde73b1c5bfade724f8e508d3fc...</td>\n    </tr>\n    <tr>\n      <th>3</th>\n      <td>Whenever I am alone in a dark room, walk alone...</td>\n      <td>1.0</td>\n      <td>-4.045258</td>\n      <td>3.200204</td>\n      <td>-3.871938</td>\n      <td>-3.878467</td>\n      <td>-4.119332</td>\n      <td>-3.877209</td>\n      <td>-3.389095</td>\n      <td>1.0</td>\n      <td>1</td>\n      <td>490a81728c3228478e8f9196a09d485cd8e06b8c0512c4...</td>\n    </tr>\n    <tr>\n      <th>4</th>\n      <td>I bought a possible answer to a homework probl...</td>\n      <td>5.0</td>\n      <td>-4.648178</td>\n      <td>-4.786387</td>\n      <td>-1.271109</td>\n      <td>-2.308218</td>\n      <td>-4.468682</td>\n      <td>0.195158</td>\n      <td>-2.507853</td>\n      <td>5.0</td>\n      <td>1</td>\n      <td>7db158133f1a4d68c59dc693051bfe63c47c80d906dc01...</td>\n    </tr>\n    <tr>\n      <th>...</th>\n      <td>...</td>\n      <td>...</td>\n      <td>...</td>\n      <td>...</td>\n      <td>...</td>\n      <td>...</td>\n      <td>...</td>\n      <td>...</td>\n      <td>...</td>\n      <td>...</td>\n      <td>...</td>\n      <td>...</td>\n    </tr>\n    <tr>\n      <th>1140</th>\n      <td>Not being a good host for a friend from a far ...</td>\n      <td>3.0</td>\n      <td>-3.077817</td>\n      <td>-5.027366</td>\n      <td>-3.306948</td>\n      <td>1.170537</td>\n      <td>-5.571788</td>\n      <td>-1.354663</td>\n      <td>-2.787492</td>\n      <td>3.0</td>\n      <td>1</td>\n      <td>e9534a6e936543dcc8437a79899a804ffce79dac3054ee...</td>\n    </tr>\n    <tr>\n      <th>1141</th>\n      <td>I had a very horrible dream one night, I dream...</td>\n      <td>1.0</td>\n      <td>-4.497149</td>\n      <td>2.975088</td>\n      <td>-3.899056</td>\n      <td>-3.790592</td>\n      <td>-4.291361</td>\n      <td>-3.033495</td>\n      <td>-3.544418</td>\n      <td>1.0</td>\n      <td>1</td>\n      <td>d1a9fe0005e2d8b96fe3a97c87621da377fd26d585efd4...</td>\n    </tr>\n    <tr>\n      <th>1142</th>\n      <td>My sweetheart left me, or rather we decided to...</td>\n      <td>0.0</td>\n      <td>2.665590</td>\n      <td>-4.259548</td>\n      <td>-3.877426</td>\n      <td>-3.458135</td>\n      <td>-3.568334</td>\n      <td>-3.607715</td>\n      <td>-3.872411</td>\n      <td>0.0</td>\n      <td>1</td>\n      <td>9715d835adb73aac1dbf805e9e8474997a614da4222656...</td>\n    </tr>\n    <tr>\n      <th>1143</th>\n      <td>My boyfriend made me a proposal.</td>\n      <td>4.0</td>\n      <td>-4.251548</td>\n      <td>-4.527634</td>\n      <td>-3.848884</td>\n      <td>-4.058742</td>\n      <td>3.007751</td>\n      <td>-3.362574</td>\n      <td>-4.002860</td>\n      <td>4.0</td>\n      <td>1</td>\n      <td>9b088be713afaffe47f1b751f79cf0e584f93d8613819e...</td>\n    </tr>\n    <tr>\n      <th>1144</th>\n      <td>I am disgusted with liers, hypocrites, slander...</td>\n      <td>6.0</td>\n      <td>-3.587851</td>\n      <td>-3.542270</td>\n      <td>-3.460089</td>\n      <td>-3.469225</td>\n      <td>-3.664184</td>\n      <td>-3.535312</td>\n      <td>3.006108</td>\n      <td>6.0</td>\n      <td>1</td>\n      <td>a39a81be5c0586a3eb01525370fefbaee556665c8a1099...</td>\n    </tr>\n  </tbody>\n</table>\n<p>7619 rows × 12 columns</p>\n</div>"
     },
     "execution_count": 76,
     "metadata": {},
     "output_type": "execute_result"
    }
   ],
   "source": [
    "bert_all"
   ],
   "metadata": {
    "collapsed": false,
    "pycharm": {
     "name": "#%%\n"
    }
   }
  },
  {
   "cell_type": "code",
   "execution_count": 83,
   "outputs": [
    {
     "data": {
      "text/plain": "2    0.468895\n3   -1.524600\n4   -2.693809\n5   -3.241329\n6   -3.736658\n7   -4.332664\n8   -4.967506\nName: 0, dtype: float64"
     },
     "execution_count": 83,
     "metadata": {},
     "output_type": "execute_result"
    }
   ],
   "source": [
    "conf_df.groupby(1).mean().iloc[0]"
   ],
   "metadata": {
    "collapsed": false,
    "pycharm": {
     "name": "#%%\n"
    }
   }
  },
  {
   "cell_type": "code",
   "execution_count": 94,
   "outputs": [
    {
     "name": "stdout",
     "output_type": "stream",
     "text": [
      "          2         3         4         5         6         7         8\n",
      "1                                                                      \n",
      "0  0.468895 -1.524600 -2.693809 -3.241329 -3.736658 -4.332664 -4.967506\n",
      "1  2.139970 -2.654546 -3.304612 -3.592845 -3.829158 -4.109175 -4.398682\n"
     ]
    },
    {
     "data": {
      "text/plain": "                                                      0  1         2  \\\n7     e529d0e588faf319a8d2a56bce1cfbaa33e95bd9675f2a...  0 -0.008224   \n9     508013a422a1328897e746c1081fde9677a652d3726f03...  0 -0.728218   \n30    5101e942f4f13396228afcfc0ed7022a0bd6bae205467f...  0  2.535155   \n45    d7485e1149e3b505c3e36a20ea33e77c43703507178737...  0  0.248427   \n84    53c81747c3fca04f8f5b61fef58e98a2343ec64e8c48eb...  0  0.694850   \n...                                                 ... ..       ...   \n7603  de310b231e98ef7333e9db336d15f4776bbc7657c75a7c...  0 -0.097690   \n7606  e1fe362705f21a14b6357fbb2efa698ff2a8d12b50630c...  0  0.082269   \n7609  a83f80f12520ed9e13e989966c65741004f035375b6a11...  0 -0.001578   \n7611  626cb9b2d46c7417b520262f774105604125788a28f8bd...  0  0.357695   \n7613  cf08f5346552c6a3f23b06c68c6ac445335249040de4af...  0  2.233496   \n\n             3         4         5         6         7         8  \n7    -0.964764 -1.882689 -2.903396 -3.956276 -5.073253 -5.711443  \n9    -1.289517 -1.292279 -1.551765 -1.902784 -2.547890 -3.734523  \n30   -3.758141 -3.882107 -4.036671 -4.077008 -4.282697 -4.305556  \n45   -1.630920 -1.910735 -4.273924 -4.447170 -4.692871 -5.099661  \n84   -2.536959 -2.952217 -3.167273 -4.052315 -4.325487 -5.477589  \n...        ...       ...       ...       ...       ...       ...  \n7603 -1.457908 -2.605385 -3.104316 -3.726416 -4.161256 -5.285932  \n7606  0.077403 -3.585347 -3.779755 -4.522589 -4.537704 -4.587114  \n7609 -1.585250 -2.177770 -3.840732 -4.270634 -4.719012 -5.603081  \n7611 -0.800455 -2.666971 -3.686851 -4.200370 -4.346138 -5.021138  \n7613 -2.198705 -3.595109 -3.652084 -3.808757 -4.050680 -4.488806  \n\n[1447 rows x 9 columns]",
      "text/html": "<div>\n<style scoped>\n    .dataframe tbody tr th:only-of-type {\n        vertical-align: middle;\n    }\n\n    .dataframe tbody tr th {\n        vertical-align: top;\n    }\n\n    .dataframe thead th {\n        text-align: right;\n    }\n</style>\n<table border=\"1\" class=\"dataframe\">\n  <thead>\n    <tr style=\"text-align: right;\">\n      <th></th>\n      <th>0</th>\n      <th>1</th>\n      <th>2</th>\n      <th>3</th>\n      <th>4</th>\n      <th>5</th>\n      <th>6</th>\n      <th>7</th>\n      <th>8</th>\n    </tr>\n  </thead>\n  <tbody>\n    <tr>\n      <th>7</th>\n      <td>e529d0e588faf319a8d2a56bce1cfbaa33e95bd9675f2a...</td>\n      <td>0</td>\n      <td>-0.008224</td>\n      <td>-0.964764</td>\n      <td>-1.882689</td>\n      <td>-2.903396</td>\n      <td>-3.956276</td>\n      <td>-5.073253</td>\n      <td>-5.711443</td>\n    </tr>\n    <tr>\n      <th>9</th>\n      <td>508013a422a1328897e746c1081fde9677a652d3726f03...</td>\n      <td>0</td>\n      <td>-0.728218</td>\n      <td>-1.289517</td>\n      <td>-1.292279</td>\n      <td>-1.551765</td>\n      <td>-1.902784</td>\n      <td>-2.547890</td>\n      <td>-3.734523</td>\n    </tr>\n    <tr>\n      <th>30</th>\n      <td>5101e942f4f13396228afcfc0ed7022a0bd6bae205467f...</td>\n      <td>0</td>\n      <td>2.535155</td>\n      <td>-3.758141</td>\n      <td>-3.882107</td>\n      <td>-4.036671</td>\n      <td>-4.077008</td>\n      <td>-4.282697</td>\n      <td>-4.305556</td>\n    </tr>\n    <tr>\n      <th>45</th>\n      <td>d7485e1149e3b505c3e36a20ea33e77c43703507178737...</td>\n      <td>0</td>\n      <td>0.248427</td>\n      <td>-1.630920</td>\n      <td>-1.910735</td>\n      <td>-4.273924</td>\n      <td>-4.447170</td>\n      <td>-4.692871</td>\n      <td>-5.099661</td>\n    </tr>\n    <tr>\n      <th>84</th>\n      <td>53c81747c3fca04f8f5b61fef58e98a2343ec64e8c48eb...</td>\n      <td>0</td>\n      <td>0.694850</td>\n      <td>-2.536959</td>\n      <td>-2.952217</td>\n      <td>-3.167273</td>\n      <td>-4.052315</td>\n      <td>-4.325487</td>\n      <td>-5.477589</td>\n    </tr>\n    <tr>\n      <th>...</th>\n      <td>...</td>\n      <td>...</td>\n      <td>...</td>\n      <td>...</td>\n      <td>...</td>\n      <td>...</td>\n      <td>...</td>\n      <td>...</td>\n      <td>...</td>\n    </tr>\n    <tr>\n      <th>7603</th>\n      <td>de310b231e98ef7333e9db336d15f4776bbc7657c75a7c...</td>\n      <td>0</td>\n      <td>-0.097690</td>\n      <td>-1.457908</td>\n      <td>-2.605385</td>\n      <td>-3.104316</td>\n      <td>-3.726416</td>\n      <td>-4.161256</td>\n      <td>-5.285932</td>\n    </tr>\n    <tr>\n      <th>7606</th>\n      <td>e1fe362705f21a14b6357fbb2efa698ff2a8d12b50630c...</td>\n      <td>0</td>\n      <td>0.082269</td>\n      <td>0.077403</td>\n      <td>-3.585347</td>\n      <td>-3.779755</td>\n      <td>-4.522589</td>\n      <td>-4.537704</td>\n      <td>-4.587114</td>\n    </tr>\n    <tr>\n      <th>7609</th>\n      <td>a83f80f12520ed9e13e989966c65741004f035375b6a11...</td>\n      <td>0</td>\n      <td>-0.001578</td>\n      <td>-1.585250</td>\n      <td>-2.177770</td>\n      <td>-3.840732</td>\n      <td>-4.270634</td>\n      <td>-4.719012</td>\n      <td>-5.603081</td>\n    </tr>\n    <tr>\n      <th>7611</th>\n      <td>626cb9b2d46c7417b520262f774105604125788a28f8bd...</td>\n      <td>0</td>\n      <td>0.357695</td>\n      <td>-0.800455</td>\n      <td>-2.666971</td>\n      <td>-3.686851</td>\n      <td>-4.200370</td>\n      <td>-4.346138</td>\n      <td>-5.021138</td>\n    </tr>\n    <tr>\n      <th>7613</th>\n      <td>cf08f5346552c6a3f23b06c68c6ac445335249040de4af...</td>\n      <td>0</td>\n      <td>2.233496</td>\n      <td>-2.198705</td>\n      <td>-3.595109</td>\n      <td>-3.652084</td>\n      <td>-3.808757</td>\n      <td>-4.050680</td>\n      <td>-4.488806</td>\n    </tr>\n  </tbody>\n</table>\n<p>1447 rows × 9 columns</p>\n</div>"
     },
     "execution_count": 94,
     "metadata": {},
     "output_type": "execute_result"
    }
   ],
   "source": [
    "print(conf_df.groupby(1).mean())\n",
    "conf_df[conf_df[1] == 0]"
   ],
   "metadata": {
    "collapsed": false,
    "pycharm": {
     "name": "#%%\n"
    }
   }
  },
  {
   "cell_type": "code",
   "execution_count": 93,
   "outputs": [
    {
     "data": {
      "text/plain": "                                               sentence  ytrue       2_x  \\\n0     I went to a pub with a group of friends (not v...    3.0 -3.956276   \n1                                       [ No response.]    0.0 -1.902784   \n2                                       [ No response.]    0.0 -1.902784   \n3                                       [ No response.]    0.0 -1.902784   \n4                                       [ No response.]    0.0 -1.902784   \n...                                                 ...    ...       ...   \n4562  Our Headmaster came to our hostel. The lights ...    3.0 -5.285932   \n4563  Every time I was around this one person I woul...    5.0 -4.587114   \n4564  When I quarrelled with a very close friend of ...    0.0 -4.270634   \n4565               Adultery with a friend's girlfriend.    3.0 -4.200370   \n4566  On the T.V I saw a news feature on South Afric...    2.0 -4.050680   \n\n           3_x       4_x       5_x       6_x       7_x       8_x  predictions  \\\n0    -5.711443 -0.008224 -2.903396 -5.073253 -1.882689 -0.964764          2.0   \n1    -2.547890 -1.551765 -1.292279 -3.734523 -0.728218 -1.289517          5.0   \n2    -2.547890 -1.551765 -1.292279 -3.734523 -0.728218 -1.289517          5.0   \n3    -2.547890 -1.551765 -1.292279 -3.734523 -0.728218 -1.289517          5.0   \n4    -2.547890 -1.551765 -1.292279 -3.734523 -0.728218 -1.289517          5.0   \n...        ...       ...       ...       ...       ...       ...          ...   \n4562 -1.457908 -2.605385 -3.104316 -4.161256 -0.097690 -3.726416          5.0   \n4563 -4.522589 -3.779755  0.082269 -4.537704  0.077403 -3.585347          3.0   \n4564 -4.719012 -1.585250 -0.001578 -5.603081 -2.177770 -3.840732          3.0   \n4565 -4.346138 -3.686851 -0.800455 -5.021138  0.357695 -2.666971          5.0   \n4566 -3.808757 -2.198705 -3.652084 -4.488806 -3.595109  2.233496          6.0   \n\n      ...                                                _id  \\\n0     ...  e529d0e588faf319a8d2a56bce1cfbaa33e95bd9675f2a...   \n1     ...  508013a422a1328897e746c1081fde9677a652d3726f03...   \n2     ...  508013a422a1328897e746c1081fde9677a652d3726f03...   \n3     ...  508013a422a1328897e746c1081fde9677a652d3726f03...   \n4     ...  508013a422a1328897e746c1081fde9677a652d3726f03...   \n...   ...                                                ...   \n4562  ...  de310b231e98ef7333e9db336d15f4776bbc7657c75a7c...   \n4563  ...  e1fe362705f21a14b6357fbb2efa698ff2a8d12b50630c...   \n4564  ...  a83f80f12520ed9e13e989966c65741004f035375b6a11...   \n4565  ...  626cb9b2d46c7417b520262f774105604125788a28f8bd...   \n4566  ...  cf08f5346552c6a3f23b06c68c6ac445335249040de4af...   \n\n                                                      0  1       2_y  \\\n0     e529d0e588faf319a8d2a56bce1cfbaa33e95bd9675f2a...  0 -0.008224   \n1     508013a422a1328897e746c1081fde9677a652d3726f03...  0 -0.728218   \n2     508013a422a1328897e746c1081fde9677a652d3726f03...  0 -0.728218   \n3     508013a422a1328897e746c1081fde9677a652d3726f03...  0 -0.728218   \n4     508013a422a1328897e746c1081fde9677a652d3726f03...  0 -0.728218   \n...                                                 ... ..       ...   \n4562  de310b231e98ef7333e9db336d15f4776bbc7657c75a7c...  0 -0.097690   \n4563  e1fe362705f21a14b6357fbb2efa698ff2a8d12b50630c...  0  0.082269   \n4564  a83f80f12520ed9e13e989966c65741004f035375b6a11...  0 -0.001578   \n4565  626cb9b2d46c7417b520262f774105604125788a28f8bd...  0  0.357695   \n4566  cf08f5346552c6a3f23b06c68c6ac445335249040de4af...  0  2.233496   \n\n           3_y       4_y       5_y       6_y       7_y       8_y  \n0    -0.964764 -1.882689 -2.903396 -3.956276 -5.073253 -5.711443  \n1    -1.289517 -1.292279 -1.551765 -1.902784 -2.547890 -3.734523  \n2    -1.289517 -1.292279 -1.551765 -1.902784 -2.547890 -3.734523  \n3    -1.289517 -1.292279 -1.551765 -1.902784 -2.547890 -3.734523  \n4    -1.289517 -1.292279 -1.551765 -1.902784 -2.547890 -3.734523  \n...        ...       ...       ...       ...       ...       ...  \n4562 -1.457908 -2.605385 -3.104316 -3.726416 -4.161256 -5.285932  \n4563  0.077403 -3.585347 -3.779755 -4.522589 -4.537704 -4.587114  \n4564 -1.585250 -2.177770 -3.840732 -4.270634 -4.719012 -5.603081  \n4565 -0.800455 -2.666971 -3.686851 -4.200370 -4.346138 -5.021138  \n4566 -2.198705 -3.595109 -3.652084 -3.808757 -4.050680 -4.488806  \n\n[4567 rows x 21 columns]",
      "text/html": "<div>\n<style scoped>\n    .dataframe tbody tr th:only-of-type {\n        vertical-align: middle;\n    }\n\n    .dataframe tbody tr th {\n        vertical-align: top;\n    }\n\n    .dataframe thead th {\n        text-align: right;\n    }\n</style>\n<table border=\"1\" class=\"dataframe\">\n  <thead>\n    <tr style=\"text-align: right;\">\n      <th></th>\n      <th>sentence</th>\n      <th>ytrue</th>\n      <th>2_x</th>\n      <th>3_x</th>\n      <th>4_x</th>\n      <th>5_x</th>\n      <th>6_x</th>\n      <th>7_x</th>\n      <th>8_x</th>\n      <th>predictions</th>\n      <th>...</th>\n      <th>_id</th>\n      <th>0</th>\n      <th>1</th>\n      <th>2_y</th>\n      <th>3_y</th>\n      <th>4_y</th>\n      <th>5_y</th>\n      <th>6_y</th>\n      <th>7_y</th>\n      <th>8_y</th>\n    </tr>\n  </thead>\n  <tbody>\n    <tr>\n      <th>0</th>\n      <td>I went to a pub with a group of friends (not v...</td>\n      <td>3.0</td>\n      <td>-3.956276</td>\n      <td>-5.711443</td>\n      <td>-0.008224</td>\n      <td>-2.903396</td>\n      <td>-5.073253</td>\n      <td>-1.882689</td>\n      <td>-0.964764</td>\n      <td>2.0</td>\n      <td>...</td>\n      <td>e529d0e588faf319a8d2a56bce1cfbaa33e95bd9675f2a...</td>\n      <td>e529d0e588faf319a8d2a56bce1cfbaa33e95bd9675f2a...</td>\n      <td>0</td>\n      <td>-0.008224</td>\n      <td>-0.964764</td>\n      <td>-1.882689</td>\n      <td>-2.903396</td>\n      <td>-3.956276</td>\n      <td>-5.073253</td>\n      <td>-5.711443</td>\n    </tr>\n    <tr>\n      <th>1</th>\n      <td>[ No response.]</td>\n      <td>0.0</td>\n      <td>-1.902784</td>\n      <td>-2.547890</td>\n      <td>-1.551765</td>\n      <td>-1.292279</td>\n      <td>-3.734523</td>\n      <td>-0.728218</td>\n      <td>-1.289517</td>\n      <td>5.0</td>\n      <td>...</td>\n      <td>508013a422a1328897e746c1081fde9677a652d3726f03...</td>\n      <td>508013a422a1328897e746c1081fde9677a652d3726f03...</td>\n      <td>0</td>\n      <td>-0.728218</td>\n      <td>-1.289517</td>\n      <td>-1.292279</td>\n      <td>-1.551765</td>\n      <td>-1.902784</td>\n      <td>-2.547890</td>\n      <td>-3.734523</td>\n    </tr>\n    <tr>\n      <th>2</th>\n      <td>[ No response.]</td>\n      <td>0.0</td>\n      <td>-1.902784</td>\n      <td>-2.547890</td>\n      <td>-1.551765</td>\n      <td>-1.292279</td>\n      <td>-3.734523</td>\n      <td>-0.728218</td>\n      <td>-1.289517</td>\n      <td>5.0</td>\n      <td>...</td>\n      <td>508013a422a1328897e746c1081fde9677a652d3726f03...</td>\n      <td>508013a422a1328897e746c1081fde9677a652d3726f03...</td>\n      <td>0</td>\n      <td>-0.728218</td>\n      <td>-1.289517</td>\n      <td>-1.292279</td>\n      <td>-1.551765</td>\n      <td>-1.902784</td>\n      <td>-2.547890</td>\n      <td>-3.734523</td>\n    </tr>\n    <tr>\n      <th>3</th>\n      <td>[ No response.]</td>\n      <td>0.0</td>\n      <td>-1.902784</td>\n      <td>-2.547890</td>\n      <td>-1.551765</td>\n      <td>-1.292279</td>\n      <td>-3.734523</td>\n      <td>-0.728218</td>\n      <td>-1.289517</td>\n      <td>5.0</td>\n      <td>...</td>\n      <td>508013a422a1328897e746c1081fde9677a652d3726f03...</td>\n      <td>508013a422a1328897e746c1081fde9677a652d3726f03...</td>\n      <td>0</td>\n      <td>-0.728218</td>\n      <td>-1.289517</td>\n      <td>-1.292279</td>\n      <td>-1.551765</td>\n      <td>-1.902784</td>\n      <td>-2.547890</td>\n      <td>-3.734523</td>\n    </tr>\n    <tr>\n      <th>4</th>\n      <td>[ No response.]</td>\n      <td>0.0</td>\n      <td>-1.902784</td>\n      <td>-2.547890</td>\n      <td>-1.551765</td>\n      <td>-1.292279</td>\n      <td>-3.734523</td>\n      <td>-0.728218</td>\n      <td>-1.289517</td>\n      <td>5.0</td>\n      <td>...</td>\n      <td>508013a422a1328897e746c1081fde9677a652d3726f03...</td>\n      <td>508013a422a1328897e746c1081fde9677a652d3726f03...</td>\n      <td>0</td>\n      <td>-0.728218</td>\n      <td>-1.289517</td>\n      <td>-1.292279</td>\n      <td>-1.551765</td>\n      <td>-1.902784</td>\n      <td>-2.547890</td>\n      <td>-3.734523</td>\n    </tr>\n    <tr>\n      <th>...</th>\n      <td>...</td>\n      <td>...</td>\n      <td>...</td>\n      <td>...</td>\n      <td>...</td>\n      <td>...</td>\n      <td>...</td>\n      <td>...</td>\n      <td>...</td>\n      <td>...</td>\n      <td>...</td>\n      <td>...</td>\n      <td>...</td>\n      <td>...</td>\n      <td>...</td>\n      <td>...</td>\n      <td>...</td>\n      <td>...</td>\n      <td>...</td>\n      <td>...</td>\n      <td>...</td>\n    </tr>\n    <tr>\n      <th>4562</th>\n      <td>Our Headmaster came to our hostel. The lights ...</td>\n      <td>3.0</td>\n      <td>-5.285932</td>\n      <td>-1.457908</td>\n      <td>-2.605385</td>\n      <td>-3.104316</td>\n      <td>-4.161256</td>\n      <td>-0.097690</td>\n      <td>-3.726416</td>\n      <td>5.0</td>\n      <td>...</td>\n      <td>de310b231e98ef7333e9db336d15f4776bbc7657c75a7c...</td>\n      <td>de310b231e98ef7333e9db336d15f4776bbc7657c75a7c...</td>\n      <td>0</td>\n      <td>-0.097690</td>\n      <td>-1.457908</td>\n      <td>-2.605385</td>\n      <td>-3.104316</td>\n      <td>-3.726416</td>\n      <td>-4.161256</td>\n      <td>-5.285932</td>\n    </tr>\n    <tr>\n      <th>4563</th>\n      <td>Every time I was around this one person I woul...</td>\n      <td>5.0</td>\n      <td>-4.587114</td>\n      <td>-4.522589</td>\n      <td>-3.779755</td>\n      <td>0.082269</td>\n      <td>-4.537704</td>\n      <td>0.077403</td>\n      <td>-3.585347</td>\n      <td>3.0</td>\n      <td>...</td>\n      <td>e1fe362705f21a14b6357fbb2efa698ff2a8d12b50630c...</td>\n      <td>e1fe362705f21a14b6357fbb2efa698ff2a8d12b50630c...</td>\n      <td>0</td>\n      <td>0.082269</td>\n      <td>0.077403</td>\n      <td>-3.585347</td>\n      <td>-3.779755</td>\n      <td>-4.522589</td>\n      <td>-4.537704</td>\n      <td>-4.587114</td>\n    </tr>\n    <tr>\n      <th>4564</th>\n      <td>When I quarrelled with a very close friend of ...</td>\n      <td>0.0</td>\n      <td>-4.270634</td>\n      <td>-4.719012</td>\n      <td>-1.585250</td>\n      <td>-0.001578</td>\n      <td>-5.603081</td>\n      <td>-2.177770</td>\n      <td>-3.840732</td>\n      <td>3.0</td>\n      <td>...</td>\n      <td>a83f80f12520ed9e13e989966c65741004f035375b6a11...</td>\n      <td>a83f80f12520ed9e13e989966c65741004f035375b6a11...</td>\n      <td>0</td>\n      <td>-0.001578</td>\n      <td>-1.585250</td>\n      <td>-2.177770</td>\n      <td>-3.840732</td>\n      <td>-4.270634</td>\n      <td>-4.719012</td>\n      <td>-5.603081</td>\n    </tr>\n    <tr>\n      <th>4565</th>\n      <td>Adultery with a friend's girlfriend.</td>\n      <td>3.0</td>\n      <td>-4.200370</td>\n      <td>-4.346138</td>\n      <td>-3.686851</td>\n      <td>-0.800455</td>\n      <td>-5.021138</td>\n      <td>0.357695</td>\n      <td>-2.666971</td>\n      <td>5.0</td>\n      <td>...</td>\n      <td>626cb9b2d46c7417b520262f774105604125788a28f8bd...</td>\n      <td>626cb9b2d46c7417b520262f774105604125788a28f8bd...</td>\n      <td>0</td>\n      <td>0.357695</td>\n      <td>-0.800455</td>\n      <td>-2.666971</td>\n      <td>-3.686851</td>\n      <td>-4.200370</td>\n      <td>-4.346138</td>\n      <td>-5.021138</td>\n    </tr>\n    <tr>\n      <th>4566</th>\n      <td>On the T.V I saw a news feature on South Afric...</td>\n      <td>2.0</td>\n      <td>-4.050680</td>\n      <td>-3.808757</td>\n      <td>-2.198705</td>\n      <td>-3.652084</td>\n      <td>-4.488806</td>\n      <td>-3.595109</td>\n      <td>2.233496</td>\n      <td>6.0</td>\n      <td>...</td>\n      <td>cf08f5346552c6a3f23b06c68c6ac445335249040de4af...</td>\n      <td>cf08f5346552c6a3f23b06c68c6ac445335249040de4af...</td>\n      <td>0</td>\n      <td>2.233496</td>\n      <td>-2.198705</td>\n      <td>-3.595109</td>\n      <td>-3.652084</td>\n      <td>-3.808757</td>\n      <td>-4.050680</td>\n      <td>-4.488806</td>\n    </tr>\n  </tbody>\n</table>\n<p>4567 rows × 21 columns</p>\n</div>"
     },
     "execution_count": 93,
     "metadata": {},
     "output_type": "execute_result"
    }
   ],
   "source": [
    "non_match = bert_all[bert_all[\"match\"] == 0].reset_index(drop=True)\n",
    "non_match = non_match.merge(conf_df[conf_df[1] == 0], left_on=\"_id\", right_on=0)\n",
    "non_match"
   ],
   "metadata": {
    "collapsed": false,
    "pycharm": {
     "name": "#%%\n"
    }
   }
  },
  {
   "cell_type": "code",
   "execution_count": null,
   "outputs": [],
   "source": [],
   "metadata": {
    "collapsed": false,
    "pycharm": {
     "name": "#%%\n"
    }
   }
  },
  {
   "cell_type": "code",
   "execution_count": 88,
   "outputs": [
    {
     "name": "stderr",
     "output_type": "stream",
     "text": [
      "/Users/ItishaYadav1/opt/anaconda3/lib/python3.9/site-packages/seaborn/distributions.py:2619: FutureWarning: `distplot` is a deprecated function and will be removed in a future version. Please adapt your code to use either `displot` (a figure-level function with similar flexibility) or `histplot` (an axes-level function for histograms).\n",
      "  warnings.warn(msg, FutureWarning)\n"
     ]
    },
    {
     "data": {
      "text/plain": "[Text(0.5, 0, 'Normal Distribution'), Text(0, 0.5, 'Frequency')]"
     },
     "execution_count": 88,
     "metadata": {},
     "output_type": "execute_result"
    },
    {
     "data": {
      "text/plain": "<Figure size 360x360 with 1 Axes>",
      "image/png": "[encoded data removed]"
     },
     "metadata": {},
     "output_type": "display_data"
    }
   ],
   "source": [
    "# for inline plots in jupyter\n",
    "%matplotlib inline\n",
    "# import matplotlib\n",
    "import matplotlib.pyplot as plt\n",
    "# for latex equations\n",
    "from IPython.display import Math, Latex\n",
    "# for displaying images\n",
    "from IPython.core.display import Image\n",
    "\n",
    "# import seaborn\n",
    "import seaborn as sns\n",
    "# settings for seaborn plotting style\n",
    "sns.set(color_codes=True)\n",
    "# settings for seaborn plot sizes\n",
    "sns.set(rc={'figure.figsize':(5,5)})\n",
    "\n",
    "ax = sns.distplot(conf_df.groupby(1).mean().iloc[0],\n",
    "                  kde=True,\n",
    "                  color='skyblue'\n",
    "                  )\n",
    "ax.set(xlabel='Normal Distribution', ylabel='Frequency')"
   ],
   "metadata": {
    "collapsed": false,
    "pycharm": {
     "name": "#%%\n"
    }
   }
  },
  {
   "cell_type": "code",
   "execution_count": 23,
   "outputs": [
    {
     "data": {
      "text/plain": "'\\ninp_data = test\\nbert_out = bert_test\\n\\nassert inp_data.shape[0] == bert_out.shape[0]\\n\\nanalysis_df = inp_data.merge(bert_out, left_index=True, right_index=True)\\nanalysis_df = analysis_df[analysis_df[\"anger\"]]\\n\\n'"
     },
     "execution_count": 23,
     "metadata": {},
     "output_type": "execute_result"
    }
   ],
   "source": [
    "\"\"\"\n",
    "Applying analysis on test\n",
    "\"\"\"\n",
    "\n",
    "# inp_data = pd.concat([test, val])\n",
    "# bert_out = pd.concat([bert_test, bert_val])\n",
    "\n",
    "\n",
    "inp_data = test\n",
    "bert_out = bert_test\n",
    "\n",
    "assert inp_data.shape[0] == bert_out.shape[0]\n",
    "\n",
    "analysis_df = inp_data.merge(bert_out, left_index=True, right_index=True)\n",
    "analysis_df = analysis_df[analysis_df[\"anger\"]]\n",
    "\n"
   ],
   "metadata": {
    "collapsed": false,
    "pycharm": {
     "name": "#%%\n"
    }
   }
  },
  {
   "cell_type": "code",
   "execution_count": 24,
   "outputs": [
    {
     "data": {
      "text/plain": "            0         1         2         3         4         5         6   \\\n0    -4.143373 -4.099311 -4.180825 -3.873905  3.270709 -3.883025 -3.976190   \n1    -4.454488  2.634034 -3.970481 -3.600777 -4.260800 -3.508614 -4.351669   \n2    -3.871844 -4.237987 -4.067472 -3.916490  3.443163 -4.022819 -3.743179   \n3    -4.045258  3.200204 -3.871938 -3.878467 -4.119332 -3.877209 -3.389095   \n4    -4.648178 -4.786387 -1.271109 -2.308218 -4.468682  0.195158 -2.507853   \n...        ...       ...       ...       ...       ...       ...       ...   \n7614 -3.077817 -5.027366 -3.306948  1.170537 -5.571788 -1.354663 -2.787492   \n7615 -4.497149  2.975088 -3.899056 -3.790592 -4.291361 -3.033495 -3.544418   \n7616  2.665590 -4.259548 -3.877426 -3.458135 -3.568334 -3.607715 -3.872411   \n7617 -4.251548 -4.527634 -3.848884 -4.058742  3.007751 -3.362574 -4.002860   \n7618 -3.587851 -3.542270 -3.460089 -3.469225 -3.664184 -3.535312  3.006108   \n\n       7    8    9    10   11   12   13  \n0     0.0  0.0  0.0  0.0  1.0  0.0  0.0  \n1     0.0  1.0  0.0  0.0  0.0  0.0  0.0  \n2     0.0  0.0  0.0  0.0  1.0  0.0  0.0  \n3     0.0  1.0  0.0  0.0  0.0  0.0  0.0  \n4     0.0  0.0  0.0  0.0  0.0  1.0  0.0  \n...   ...  ...  ...  ...  ...  ...  ...  \n7614  0.0  0.0  0.0  1.0  0.0  0.0  0.0  \n7615  0.0  1.0  0.0  0.0  0.0  0.0  0.0  \n7616  1.0  0.0  0.0  0.0  0.0  0.0  0.0  \n7617  0.0  0.0  0.0  0.0  1.0  0.0  0.0  \n7618  0.0  0.0  0.0  0.0  0.0  0.0  1.0  \n\n[7619 rows x 14 columns]",
      "text/html": "<div>\n<style scoped>\n    .dataframe tbody tr th:only-of-type {\n        vertical-align: middle;\n    }\n\n    .dataframe tbody tr th {\n        vertical-align: top;\n    }\n\n    .dataframe thead th {\n        text-align: right;\n    }\n</style>\n<table border=\"1\" class=\"dataframe\">\n  <thead>\n    <tr style=\"text-align: right;\">\n      <th></th>\n      <th>0</th>\n      <th>1</th>\n      <th>2</th>\n      <th>3</th>\n      <th>4</th>\n      <th>5</th>\n      <th>6</th>\n      <th>7</th>\n      <th>8</th>\n      <th>9</th>\n      <th>10</th>\n      <th>11</th>\n      <th>12</th>\n      <th>13</th>\n    </tr>\n  </thead>\n  <tbody>\n    <tr>\n      <th>0</th>\n      <td>-4.143373</td>\n      <td>-4.099311</td>\n      <td>-4.180825</td>\n      <td>-3.873905</td>\n      <td>3.270709</td>\n      <td>-3.883025</td>\n      <td>-3.976190</td>\n      <td>0.0</td>\n      <td>0.0</td>\n      <td>0.0</td>\n      <td>0.0</td>\n      <td>1.0</td>\n      <td>0.0</td>\n      <td>0.0</td>\n    </tr>\n    <tr>\n      <th>1</th>\n      <td>-4.454488</td>\n      <td>2.634034</td>\n      <td>-3.970481</td>\n      <td>-3.600777</td>\n      <td>-4.260800</td>\n      <td>-3.508614</td>\n      <td>-4.351669</td>\n      <td>0.0</td>\n      <td>1.0</td>\n      <td>0.0</td>\n      <td>0.0</td>\n      <td>0.0</td>\n      <td>0.0</td>\n      <td>0.0</td>\n    </tr>\n    <tr>\n      <th>2</th>\n      <td>-3.871844</td>\n      <td>-4.237987</td>\n      <td>-4.067472</td>\n      <td>-3.916490</td>\n      <td>3.443163</td>\n      <td>-4.022819</td>\n      <td>-3.743179</td>\n      <td>0.0</td>\n      <td>0.0</td>\n      <td>0.0</td>\n      <td>0.0</td>\n      <td>1.0</td>\n      <td>0.0</td>\n      <td>0.0</td>\n    </tr>\n    <tr>\n      <th>3</th>\n      <td>-4.045258</td>\n      <td>3.200204</td>\n      <td>-3.871938</td>\n      <td>-3.878467</td>\n      <td>-4.119332</td>\n      <td>-3.877209</td>\n      <td>-3.389095</td>\n      <td>0.0</td>\n      <td>1.0</td>\n      <td>0.0</td>\n      <td>0.0</td>\n      <td>0.0</td>\n      <td>0.0</td>\n      <td>0.0</td>\n    </tr>\n    <tr>\n      <th>4</th>\n      <td>-4.648178</td>\n      <td>-4.786387</td>\n      <td>-1.271109</td>\n      <td>-2.308218</td>\n      <td>-4.468682</td>\n      <td>0.195158</td>\n      <td>-2.507853</td>\n      <td>0.0</td>\n      <td>0.0</td>\n      <td>0.0</td>\n      <td>0.0</td>\n      <td>0.0</td>\n      <td>1.0</td>\n      <td>0.0</td>\n    </tr>\n    <tr>\n      <th>...</th>\n      <td>...</td>\n      <td>...</td>\n      <td>...</td>\n      <td>...</td>\n      <td>...</td>\n      <td>...</td>\n      <td>...</td>\n      <td>...</td>\n      <td>...</td>\n      <td>...</td>\n      <td>...</td>\n      <td>...</td>\n      <td>...</td>\n      <td>...</td>\n    </tr>\n    <tr>\n      <th>7614</th>\n      <td>-3.077817</td>\n      <td>-5.027366</td>\n      <td>-3.306948</td>\n      <td>1.170537</td>\n      <td>-5.571788</td>\n      <td>-1.354663</td>\n      <td>-2.787492</td>\n      <td>0.0</td>\n      <td>0.0</td>\n      <td>0.0</td>\n      <td>1.0</td>\n      <td>0.0</td>\n      <td>0.0</td>\n      <td>0.0</td>\n    </tr>\n    <tr>\n      <th>7615</th>\n      <td>-4.497149</td>\n      <td>2.975088</td>\n      <td>-3.899056</td>\n      <td>-3.790592</td>\n      <td>-4.291361</td>\n      <td>-3.033495</td>\n      <td>-3.544418</td>\n      <td>0.0</td>\n      <td>1.0</td>\n      <td>0.0</td>\n      <td>0.0</td>\n      <td>0.0</td>\n      <td>0.0</td>\n      <td>0.0</td>\n    </tr>\n    <tr>\n      <th>7616</th>\n      <td>2.665590</td>\n      <td>-4.259548</td>\n      <td>-3.877426</td>\n      <td>-3.458135</td>\n      <td>-3.568334</td>\n      <td>-3.607715</td>\n      <td>-3.872411</td>\n      <td>1.0</td>\n      <td>0.0</td>\n      <td>0.0</td>\n      <td>0.0</td>\n      <td>0.0</td>\n      <td>0.0</td>\n      <td>0.0</td>\n    </tr>\n    <tr>\n      <th>7617</th>\n      <td>-4.251548</td>\n      <td>-4.527634</td>\n      <td>-3.848884</td>\n      <td>-4.058742</td>\n      <td>3.007751</td>\n      <td>-3.362574</td>\n      <td>-4.002860</td>\n      <td>0.0</td>\n      <td>0.0</td>\n      <td>0.0</td>\n      <td>0.0</td>\n      <td>1.0</td>\n      <td>0.0</td>\n      <td>0.0</td>\n    </tr>\n    <tr>\n      <th>7618</th>\n      <td>-3.587851</td>\n      <td>-3.542270</td>\n      <td>-3.460089</td>\n      <td>-3.469225</td>\n      <td>-3.664184</td>\n      <td>-3.535312</td>\n      <td>3.006108</td>\n      <td>0.0</td>\n      <td>0.0</td>\n      <td>0.0</td>\n      <td>0.0</td>\n      <td>0.0</td>\n      <td>0.0</td>\n      <td>1.0</td>\n    </tr>\n  </tbody>\n</table>\n<p>7619 rows × 14 columns</p>\n</div>"
     },
     "execution_count": 24,
     "metadata": {},
     "output_type": "execute_result"
    }
   ],
   "source": [
    "bert_all"
   ],
   "metadata": {
    "collapsed": false,
    "pycharm": {
     "name": "#%%\n"
    }
   }
  },
  {
   "cell_type": "code",
   "execution_count": 97,
   "outputs": [
    {
     "name": "stdout",
     "output_type": "stream",
     "text": [
      "1    6172\n",
      "0    6172\n",
      "Name: 1, dtype: int64\n",
      "[0.6970196  0.14109169 0.08099354]\n",
      "(12344, 3)\n",
      "12344\n",
      "(9875, 3) (9875,) (2469, 3) (2469,)\n",
      "Train Accuracy: 78.76%\n",
      "              precision    recall  f1-score   support\n",
      "\n",
      "           0       0.76      0.83      0.80      6172\n",
      "           1       0.82      0.74      0.78      6172\n",
      "\n",
      "    accuracy                           0.79     12344\n",
      "   macro avg       0.79      0.79      0.79     12344\n",
      "weighted avg       0.79      0.79      0.79     12344\n",
      "\n",
      "[[5139 1033]\n",
      " [1589 4583]]\n",
      "\n",
      "\n",
      "Test Accuracy: 78.78%\n",
      "              precision    recall  f1-score   support\n",
      "\n",
      "           0       0.76      0.83      0.80      1235\n",
      "           1       0.82      0.74      0.78      1234\n",
      "\n",
      "    accuracy                           0.79      2469\n",
      "   macro avg       0.79      0.79      0.79      2469\n",
      "weighted avg       0.79      0.79      0.79      2469\n",
      "\n",
      "[[1028  207]\n",
      " [ 317  917]]\n"
     ]
    },
    {
     "data": {
      "text/plain": "           dim1      dim2      dim3  yhat  y_pred_prob_1  y_pred_prob_2  \\\n11932  1.594322 -0.023795 -1.156041     0       0.888671       0.111329   \n1896   0.069710 -0.345975  0.621636     0       0.528909       0.471091   \n11676 -1.076294 -0.500565 -0.644399     1       0.246130       0.753870   \n5695  -1.581426 -0.054975 -0.518705     1       0.077281       0.922719   \n12094  0.078587 -1.407673  1.721454     0       0.608567       0.391433   \n...         ...       ...       ...   ...            ...            ...   \n5305  -0.283464  0.122823  0.643270     1       0.312340       0.687660   \n11294  1.387510  3.876121  2.509586     0       0.890139       0.109861   \n9294   1.217284  0.078961 -1.337352     0       0.854516       0.145484   \n12330  0.338228 -1.035749  0.097836     0       0.682393       0.317607   \n5566  -1.660102 -0.082655 -0.501314     1       0.068173       0.931827   \n\n       ytrue  match  \n11932      0      1  \n1896       0      1  \n11676      0      0  \n5695       1      1  \n12094      0      1  \n...      ...    ...  \n5305       1      1  \n11294      0      1  \n9294       0      1  \n12330      0      1  \n5566       1      1  \n\n[2469 rows x 8 columns]",
      "text/html": "<div>\n<style scoped>\n    .dataframe tbody tr th:only-of-type {\n        vertical-align: middle;\n    }\n\n    .dataframe tbody tr th {\n        vertical-align: top;\n    }\n\n    .dataframe thead th {\n        text-align: right;\n    }\n</style>\n<table border=\"1\" class=\"dataframe\">\n  <thead>\n    <tr style=\"text-align: right;\">\n      <th></th>\n      <th>dim1</th>\n      <th>dim2</th>\n      <th>dim3</th>\n      <th>yhat</th>\n      <th>y_pred_prob_1</th>\n      <th>y_pred_prob_2</th>\n      <th>ytrue</th>\n      <th>match</th>\n    </tr>\n  </thead>\n  <tbody>\n    <tr>\n      <th>11932</th>\n      <td>1.594322</td>\n      <td>-0.023795</td>\n      <td>-1.156041</td>\n      <td>0</td>\n      <td>0.888671</td>\n      <td>0.111329</td>\n      <td>0</td>\n      <td>1</td>\n    </tr>\n    <tr>\n      <th>1896</th>\n      <td>0.069710</td>\n      <td>-0.345975</td>\n      <td>0.621636</td>\n      <td>0</td>\n      <td>0.528909</td>\n      <td>0.471091</td>\n      <td>0</td>\n      <td>1</td>\n    </tr>\n    <tr>\n      <th>11676</th>\n      <td>-1.076294</td>\n      <td>-0.500565</td>\n      <td>-0.644399</td>\n      <td>1</td>\n      <td>0.246130</td>\n      <td>0.753870</td>\n      <td>0</td>\n      <td>0</td>\n    </tr>\n    <tr>\n      <th>5695</th>\n      <td>-1.581426</td>\n      <td>-0.054975</td>\n      <td>-0.518705</td>\n      <td>1</td>\n      <td>0.077281</td>\n      <td>0.922719</td>\n      <td>1</td>\n      <td>1</td>\n    </tr>\n    <tr>\n      <th>12094</th>\n      <td>0.078587</td>\n      <td>-1.407673</td>\n      <td>1.721454</td>\n      <td>0</td>\n      <td>0.608567</td>\n      <td>0.391433</td>\n      <td>0</td>\n      <td>1</td>\n    </tr>\n    <tr>\n      <th>...</th>\n      <td>...</td>\n      <td>...</td>\n      <td>...</td>\n      <td>...</td>\n      <td>...</td>\n      <td>...</td>\n      <td>...</td>\n      <td>...</td>\n    </tr>\n    <tr>\n      <th>5305</th>\n      <td>-0.283464</td>\n      <td>0.122823</td>\n      <td>0.643270</td>\n      <td>1</td>\n      <td>0.312340</td>\n      <td>0.687660</td>\n      <td>1</td>\n      <td>1</td>\n    </tr>\n    <tr>\n      <th>11294</th>\n      <td>1.387510</td>\n      <td>3.876121</td>\n      <td>2.509586</td>\n      <td>0</td>\n      <td>0.890139</td>\n      <td>0.109861</td>\n      <td>0</td>\n      <td>1</td>\n    </tr>\n    <tr>\n      <th>9294</th>\n      <td>1.217284</td>\n      <td>0.078961</td>\n      <td>-1.337352</td>\n      <td>0</td>\n      <td>0.854516</td>\n      <td>0.145484</td>\n      <td>0</td>\n      <td>1</td>\n    </tr>\n    <tr>\n      <th>12330</th>\n      <td>0.338228</td>\n      <td>-1.035749</td>\n      <td>0.097836</td>\n      <td>0</td>\n      <td>0.682393</td>\n      <td>0.317607</td>\n      <td>0</td>\n      <td>1</td>\n    </tr>\n    <tr>\n      <th>5566</th>\n      <td>-1.660102</td>\n      <td>-0.082655</td>\n      <td>-0.501314</td>\n      <td>1</td>\n      <td>0.068173</td>\n      <td>0.931827</td>\n      <td>1</td>\n      <td>1</td>\n    </tr>\n  </tbody>\n</table>\n<p>2469 rows × 8 columns</p>\n</div>"
     },
     "execution_count": 97,
     "metadata": {},
     "output_type": "execute_result"
    }
   ],
   "source": [
    "from sklearn.metrics import accuracy_score\n",
    "from sklearn.metrics import classification_report\n",
    "from sklearn.metrics import confusion_matrix\n",
    "from sklearn.decomposition import PCA\n",
    "from sklearn.preprocessing import StandardScaler\n",
    "from imblearn.over_sampling import SMOTE\n",
    "import pandas as pd\n",
    "from sklearn.model_selection import train_test_split\n",
    "\n",
    "def mlp_classifier(X, y):\n",
    "\n",
    "    \"\"\"Perform PCA\"\"\"\n",
    "\n",
    "\n",
    "    oversample = SMOTE()\n",
    "\n",
    "    X, y = oversample.fit_resample(X, y)\n",
    "    print(y.value_counts())\n",
    "    pca = PCA(n_components=3)\n",
    "    reduced_data = pca.fit_transform(X)\n",
    "    reduced_data_df = pd.DataFrame(reduced_data, columns=[\"dim1\", \"dim2\", \"dim3\"])\n",
    "    print(pca.explained_variance_ratio_)\n",
    "    data_col = reduced_data_df.columns\n",
    "    scalar = StandardScaler()\n",
    "\n",
    "    scalar.fit(reduced_data_df)\n",
    "    # transform data\n",
    "    standard_data = scalar.transform(reduced_data_df)\n",
    "    standard_df = pd.DataFrame(standard_data, columns=data_col)\n",
    "    print(standard_df.shape)\n",
    "    print(len(y))\n",
    "    \"\"\"\n",
    "    Data Splitting\n",
    "    \"\"\"\n",
    "    X_train, X_test, y_train, y_test = train_test_split(standard_df, y, test_size = 0.2,\n",
    "                                                        random_state = 42, stratify = y)\n",
    "\n",
    "    print(X_train.shape, y_train.shape, X_test.shape, y_test.shape)\n",
    "\n",
    "    \"\"\"Model training\"\"\"\n",
    "\n",
    "    from sklearn.neural_network import MLPClassifier\n",
    "    clf = MLPClassifier(max_iter=100, random_state=42, activation=\"tanh\", solver=\"adam\", hidden_layer_sizes=(100, ),\n",
    "    learning_rate=\"adaptive\")\n",
    "    clf.fit(X_train, y_train)\n",
    "\n",
    "\n",
    "    \"\"\"Predictions\"\"\"\n",
    "\n",
    "    y_pred_train = clf.predict(standard_df)\n",
    "    y_pred_train_proba = clf.predict_proba(standard_df)\n",
    "    # evaluate predictions\n",
    "    accuracy = accuracy_score(y, y_pred_train)\n",
    "    print(\"Train Accuracy: %.2f%%\" % (accuracy * 100.0))\n",
    "    print(classification_report(y, y_pred_train))\n",
    "\n",
    "    print(confusion_matrix(y, y_pred_train))\n",
    "    print()\n",
    "    print()\n",
    "\n",
    "    # make predictions for test data\n",
    "    y_pred = clf.predict(X_test)\n",
    "    y_pred_prob = clf.predict_proba(X_test)\n",
    "\n",
    "    top_df_test = X_test\n",
    "    top_df_test[\"yhat\"] = y_pred\n",
    "    top_df_test[[\"y_pred_prob_1\", \"y_pred_prob_2\"]] = y_pred_prob\n",
    "    top_df_test[\"ytrue\"] = y_test\n",
    "    top_match = []\n",
    "    for ind, row in top_df_test.iterrows():\n",
    "        if row[\"ytrue\"] == row[\"yhat\"]:\n",
    "            top_match.append(1)\n",
    "        else:\n",
    "            top_match.append(0)\n",
    "    top_df_test[\"match\"] = top_match\n",
    "    # evaluate predictions\n",
    "    accuracy = accuracy_score(y_test, y_pred)\n",
    "    print(\"Test Accuracy: %.2f%%\" % (accuracy * 100.0))\n",
    "    print(classification_report(y_test, y_pred))\n",
    "\n",
    "    print(confusion_matrix(y_test, y_pred))\n",
    "    return top_df_test, pca, scalar, clf\n",
    "\n",
    "\"\"\"\n",
    "define y\n",
    "\"\"\"\n",
    "# transform the dataset\n",
    "import pickle\n",
    "a, pca, scalar, clf = mlp_classifier(conf_df.drop(columns=[0, 1]).reset_index(drop=True), conf_df[1])\n",
    "a"
   ],
   "metadata": {
    "collapsed": false,
    "pycharm": {
     "name": "#%%\n"
    }
   }
  },
  {
   "cell_type": "code",
   "execution_count": null,
   "outputs": [],
   "source": [
    "\n",
    "\"\"\"\n",
    "Strategy to approach the research question:\n",
    "    1. Filter the dataset (all) to find misclassified examples.\n",
    "    2. Find out the those specific sentences and see manually, if they are the potential examples of class overlapping.\n",
    "    3. Train the ORD detector, and see of the correct label for missclassfied classes are in the top 3 recommendation or not?\n",
    "    4. Evaluate the bert model, using our custom evaluator\n",
    "\"\"\"\n",
    "\n",
    "\n",
    "\"\"\"\n",
    "\n",
    "As discussed with Prof, go with approach one and put approach 2 in future work\n",
    "ORD:\n",
    "\n",
    "1. BERT\n",
    "2. Low_vs_high confidence detector\n",
    "\n",
    "Soft decision maker:\n",
    "\n",
    "1. Approach 1: Rule Based\n",
    "\n",
    "    If overlapping region detected:\n",
    "\n",
    "    Recommend top 2 emotions\n",
    "\n",
    "    If non overlapping region detected:\n",
    "\n",
    "    Recommend top emotion\n",
    "\n",
    "2. Approach 2: Machine learning based\n",
    "    1. Train Classifiers:\n",
    "        1. Classifier 1 checks if top 2 can be recommended.\n",
    "        2. Classifier 2 checks, if top 3 can be recommended.\n",
    "        3. Worst case senario: model not confident with the emotion.\n",
    "\"\"\""
   ],
   "metadata": {
    "collapsed": false,
    "pycharm": {
     "name": "#%%\n"
    }
   }
  },
  {
   "cell_type": "code",
   "execution_count": 99,
   "outputs": [
    {
     "data": {
      "text/plain": "match  ytrue\n0      0         207\n       1         317\n1      0        1028\n       1         917\nName: dim1, dtype: int64"
     },
     "execution_count": 99,
     "metadata": {},
     "output_type": "execute_result"
    }
   ],
   "source": [
    "a.groupby([\"match\", \"ytrue\"]).count()[\"dim1\"]"
   ],
   "metadata": {
    "collapsed": false,
    "pycharm": {
     "name": "#%%\n"
    }
   }
  },
  {
   "cell_type": "code",
   "execution_count": null,
   "outputs": [],
   "source": [],
   "metadata": {
    "collapsed": false,
    "pycharm": {
     "name": "#%%\n"
    }
   }
  }
 ],
 "metadata": {
  "kernelspec": {
   "display_name": "Python 3",
   "language": "python",
   "name": "python3"
  },
  "language_info": {
   "codemirror_mode": {
    "name": "ipython",
    "version": 2
   },
   "file_extension": ".py",
   "mimetype": "text/x-python",
   "name": "python",
   "nbconvert_exporter": "python",
   "pygments_lexer": "ipython2",
   "version": "2.7.6"
  }
 },
 "nbformat": 4,
 "nbformat_minor": 0
}