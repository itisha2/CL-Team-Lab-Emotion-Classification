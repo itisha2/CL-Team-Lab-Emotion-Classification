{
 "cells": [
  {
   "cell_type": "code",
   "execution_count": 2,
   "metadata": {
    "collapsed": true
   },
   "outputs": [
    {
     "data": {
      "text/plain": "                                                      0    1         2  \\\n0     When I understood that I was admitted to the U...  4.0 -4.143373   \n1     I broke a window of a neighbouring house and I...  1.0 -4.454488   \n2                            Got a big fish in fishing.  4.0 -3.871844   \n3     Whenever I am alone in a dark room, walk alone...  1.0 -4.045258   \n4     I bought a possible answer to a homework probl...  5.0 -4.648178   \n...                                                 ...  ...       ...   \n1140  Not being a good host for a friend from a far ...  3.0 -3.077817   \n1141  I had a very horrible dream one night, I dream...  1.0 -4.497149   \n1142  My sweetheart left me, or rather we decided to...  0.0  2.665590   \n1143                   My boyfriend made me a proposal.  4.0 -4.251548   \n1144  I am disgusted with liers, hypocrites, slander...  6.0 -3.587851   \n\n             3         4         5         6         7         8  \n0    -4.099311 -4.180825 -3.873905  3.270709 -3.883025 -3.976190  \n1     2.634034 -3.970481 -3.600777 -4.260800 -3.508614 -4.351669  \n2    -4.237987 -4.067472 -3.916490  3.443163 -4.022819 -3.743179  \n3     3.200204 -3.871938 -3.878467 -4.119332 -3.877209 -3.389095  \n4    -4.786387 -1.271109 -2.308218 -4.468682  0.195158 -2.507853  \n...        ...       ...       ...       ...       ...       ...  \n1140 -5.027366 -3.306948  1.170537 -5.571788 -1.354663 -2.787492  \n1141  2.975088 -3.899056 -3.790592 -4.291361 -3.033495 -3.544418  \n1142 -4.259548 -3.877426 -3.458135 -3.568334 -3.607715 -3.872411  \n1143 -4.527634 -3.848884 -4.058742  3.007751 -3.362574 -4.002860  \n1144 -3.542270 -3.460089 -3.469225 -3.664184 -3.535312  3.006108  \n\n[7619 rows x 9 columns]",
      "text/html": "<div>\n<style scoped>\n    .dataframe tbody tr th:only-of-type {\n        vertical-align: middle;\n    }\n\n    .dataframe tbody tr th {\n        vertical-align: top;\n    }\n\n    .dataframe thead th {\n        text-align: right;\n    }\n</style>\n<table border=\"1\" class=\"dataframe\">\n  <thead>\n    <tr style=\"text-align: right;\">\n      <th></th>\n      <th>0</th>\n      <th>1</th>\n      <th>2</th>\n      <th>3</th>\n      <th>4</th>\n      <th>5</th>\n      <th>6</th>\n      <th>7</th>\n      <th>8</th>\n    </tr>\n  </thead>\n  <tbody>\n    <tr>\n      <th>0</th>\n      <td>When I understood that I was admitted to the U...</td>\n      <td>4.0</td>\n      <td>-4.143373</td>\n      <td>-4.099311</td>\n      <td>-4.180825</td>\n      <td>-3.873905</td>\n      <td>3.270709</td>\n      <td>-3.883025</td>\n      <td>-3.976190</td>\n    </tr>\n    <tr>\n      <th>1</th>\n      <td>I broke a window of a neighbouring house and I...</td>\n      <td>1.0</td>\n      <td>-4.454488</td>\n      <td>2.634034</td>\n      <td>-3.970481</td>\n      <td>-3.600777</td>\n      <td>-4.260800</td>\n      <td>-3.508614</td>\n      <td>-4.351669</td>\n    </tr>\n    <tr>\n      <th>2</th>\n      <td>Got a big fish in fishing.</td>\n      <td>4.0</td>\n      <td>-3.871844</td>\n      <td>-4.237987</td>\n      <td>-4.067472</td>\n      <td>-3.916490</td>\n      <td>3.443163</td>\n      <td>-4.022819</td>\n      <td>-3.743179</td>\n    </tr>\n    <tr>\n      <th>3</th>\n      <td>Whenever I am alone in a dark room, walk alone...</td>\n      <td>1.0</td>\n      <td>-4.045258</td>\n      <td>3.200204</td>\n      <td>-3.871938</td>\n      <td>-3.878467</td>\n      <td>-4.119332</td>\n      <td>-3.877209</td>\n      <td>-3.389095</td>\n    </tr>\n    <tr>\n      <th>4</th>\n      <td>I bought a possible answer to a homework probl...</td>\n      <td>5.0</td>\n      <td>-4.648178</td>\n      <td>-4.786387</td>\n      <td>-1.271109</td>\n      <td>-2.308218</td>\n      <td>-4.468682</td>\n      <td>0.195158</td>\n      <td>-2.507853</td>\n    </tr>\n    <tr>\n      <th>...</th>\n      <td>...</td>\n      <td>...</td>\n      <td>...</td>\n      <td>...</td>\n      <td>...</td>\n      <td>...</td>\n      <td>...</td>\n      <td>...</td>\n      <td>...</td>\n    </tr>\n    <tr>\n      <th>1140</th>\n      <td>Not being a good host for a friend from a far ...</td>\n      <td>3.0</td>\n      <td>-3.077817</td>\n      <td>-5.027366</td>\n      <td>-3.306948</td>\n      <td>1.170537</td>\n      <td>-5.571788</td>\n      <td>-1.354663</td>\n      <td>-2.787492</td>\n    </tr>\n    <tr>\n      <th>1141</th>\n      <td>I had a very horrible dream one night, I dream...</td>\n      <td>1.0</td>\n      <td>-4.497149</td>\n      <td>2.975088</td>\n      <td>-3.899056</td>\n      <td>-3.790592</td>\n      <td>-4.291361</td>\n      <td>-3.033495</td>\n      <td>-3.544418</td>\n    </tr>\n    <tr>\n      <th>1142</th>\n      <td>My sweetheart left me, or rather we decided to...</td>\n      <td>0.0</td>\n      <td>2.665590</td>\n      <td>-4.259548</td>\n      <td>-3.877426</td>\n      <td>-3.458135</td>\n      <td>-3.568334</td>\n      <td>-3.607715</td>\n      <td>-3.872411</td>\n    </tr>\n    <tr>\n      <th>1143</th>\n      <td>My boyfriend made me a proposal.</td>\n      <td>4.0</td>\n      <td>-4.251548</td>\n      <td>-4.527634</td>\n      <td>-3.848884</td>\n      <td>-4.058742</td>\n      <td>3.007751</td>\n      <td>-3.362574</td>\n      <td>-4.002860</td>\n    </tr>\n    <tr>\n      <th>1144</th>\n      <td>I am disgusted with liers, hypocrites, slander...</td>\n      <td>6.0</td>\n      <td>-3.587851</td>\n      <td>-3.542270</td>\n      <td>-3.460089</td>\n      <td>-3.469225</td>\n      <td>-3.664184</td>\n      <td>-3.535312</td>\n      <td>3.006108</td>\n    </tr>\n  </tbody>\n</table>\n<p>7619 rows × 9 columns</p>\n</div>"
     },
     "execution_count": 2,
     "metadata": {},
     "output_type": "execute_result"
    }
   ],
   "source": [
    "\"\"\"Read Data, output from BERT Model (ISEAR Dataset) \"\"\"\n",
    "\n",
    "import pandas as pd\n",
    "import os\n",
    "\n",
    "data_path = \"./data\"\n",
    "\n",
    "drop_col = [9, 10, 11, 12, 13, 14, 15]\n",
    "bert_train = pd.read_csv(os.path.join(data_path, \"train-16.csv\"), header=None, on_bad_lines='skip', delimiter=\"|\").drop(columns=drop_col)\n",
    "bert_val = pd.read_csv(os.path.join(data_path, \"val-16.csv\"), header=None, on_bad_lines='skip', delimiter=\"|\").drop(columns=drop_col)\n",
    "bert_test = pd.read_csv(os.path.join(data_path, \"test-16.csv\"), header=None, on_bad_lines='skip', delimiter=\"|\").drop(columns=drop_col)\n",
    "\n",
    "bert_all = pd.concat([bert_train, bert_val, bert_test])\n",
    "bert_all"
   ]
  },
  {
   "cell_type": "code",
   "execution_count": 3,
   "outputs": [
    {
     "name": "stdout",
     "output_type": "stream",
     "text": [
      "Data Distribution after SMOTE : \n",
      "\n",
      "1    6172\n",
      "0    6172\n",
      "Name: 1, dtype: int64\n",
      "\n",
      "PCA variance of 3 dimensions :  [0.69680549 0.14155477 0.08041921]\n",
      "\n",
      "Shape train and test data, after train_test_split : \n",
      "(9875, 3) (9875,) (2469, 3) (2469,)\n",
      "\n",
      "Train Accuracy: 78.89%\n",
      "              precision    recall  f1-score   support\n",
      "\n",
      "           0       0.76      0.84      0.80      6172\n",
      "           1       0.82      0.73      0.78      6172\n",
      "\n",
      "    accuracy                           0.79     12344\n",
      "   macro avg       0.79      0.79      0.79     12344\n",
      "weighted avg       0.79      0.79      0.79     12344\n",
      "\n",
      "[[5203  969]\n",
      " [1637 4535]]\n",
      "\n",
      "\n",
      "Test Accuracy: 79.71%\n",
      "              precision    recall  f1-score   support\n",
      "\n",
      "           0       0.76      0.86      0.81      1235\n",
      "           1       0.84      0.74      0.78      1234\n",
      "\n",
      "    accuracy                           0.80      2469\n",
      "   macro avg       0.80      0.80      0.80      2469\n",
      "weighted avg       0.80      0.80      0.80      2469\n",
      "\n",
      "[[1060  175]\n",
      " [ 326  908]]\n",
      "_________________________________________________________________________\n",
      "\n",
      "Saving Models for Crisp Decision : \n",
      "Model pca_crisp.p, saved at ./classifier_models/\n",
      "Model scalar_crisp.p, saved at ./classifier_models/\n",
      "Model classifier_crisp.p, saved at ./classifier_models/\n",
      "\n",
      "Saving Models for Soft Decision : \n",
      "Data Distribution after SMOTE : \n",
      "\n",
      "1    6919\n",
      "0    6919\n",
      "Name: 1, dtype: int64\n",
      "\n",
      "PCA variance of 3 dimensions :  [0.68396475 0.15886297 0.07474288]\n",
      "\n",
      "Shape train and test data, after train_test_split : \n",
      "(11070, 3) (11070,) (2768, 3) (2768,)\n",
      "\n",
      "Train Accuracy: 76.85%\n",
      "              precision    recall  f1-score   support\n",
      "\n",
      "           0       0.76      0.79      0.77      6919\n",
      "           1       0.78      0.75      0.76      6919\n",
      "\n",
      "    accuracy                           0.77     13838\n",
      "   macro avg       0.77      0.77      0.77     13838\n",
      "weighted avg       0.77      0.77      0.77     13838\n",
      "\n",
      "[[5436 1483]\n",
      " [1721 5198]]\n",
      "\n",
      "\n",
      "Test Accuracy: 76.95%\n",
      "              precision    recall  f1-score   support\n",
      "\n",
      "           0       0.76      0.80      0.78      1384\n",
      "           1       0.78      0.74      0.76      1384\n",
      "\n",
      "    accuracy                           0.77      2768\n",
      "   macro avg       0.77      0.77      0.77      2768\n",
      "weighted avg       0.77      0.77      0.77      2768\n",
      "\n",
      "[[1101  283]\n",
      " [ 355 1029]]\n",
      "_________________________________________________________________________\n",
      "\n",
      "Model pca_soft_top2.p, saved at ./classifier_models/\n",
      "Model scalar_soft_top2.p, saved at ./classifier_models/\n",
      "Model classifier_soft_top2.p, saved at ./classifier_models/\n",
      "\n",
      "Data Distribution after SMOTE : \n",
      "\n",
      "1    7229\n",
      "0    7229\n",
      "Name: 1, dtype: int64\n",
      "\n",
      "PCA variance of 3 dimensions :  [0.67846987 0.16293472 0.07711552]\n",
      "\n",
      "Shape train and test data, after train_test_split : \n",
      "(11566, 3) (11566,) (2892, 3) (2892,)\n",
      "\n",
      "Train Accuracy: 74.49%\n",
      "              precision    recall  f1-score   support\n",
      "\n",
      "           0       0.73      0.78      0.75      7229\n",
      "           1       0.77      0.71      0.73      7229\n",
      "\n",
      "    accuracy                           0.74     14458\n",
      "   macro avg       0.75      0.74      0.74     14458\n",
      "weighted avg       0.75      0.74      0.74     14458\n",
      "\n",
      "[[5669 1560]\n",
      " [2128 5101]]\n",
      "\n",
      "\n",
      "Test Accuracy: 74.17%\n",
      "              precision    recall  f1-score   support\n",
      "\n",
      "           0       0.72      0.78      0.75      1446\n",
      "           1       0.76      0.70      0.73      1446\n",
      "\n",
      "    accuracy                           0.74      2892\n",
      "   macro avg       0.74      0.74      0.74      2892\n",
      "weighted avg       0.74      0.74      0.74      2892\n",
      "\n",
      "[[1131  315]\n",
      " [ 432 1014]]\n",
      "_________________________________________________________________________\n",
      "\n",
      "Model pca_soft_top3.p, saved at ./classifier_models/\n",
      "Model scalar_soft_top3.p, saved at ./classifier_models/\n",
      "Model classifier_soft_top3.p, saved at ./classifier_models/\n"
     ]
    }
   ],
   "source": [
    "from main import *\n",
    "\n",
    "\n",
    "\"\"\"\n",
    "Training of the ORD and Soft Decision Maker\n",
    "\"\"\"\n",
    "train(bert_output=bert_all)"
   ],
   "metadata": {
    "collapsed": false,
    "pycharm": {
     "name": "#%%\n"
    }
   }
  },
  {
   "cell_type": "code",
   "execution_count": 5,
   "outputs": [
    {
     "name": "stdout",
     "output_type": "stream",
     "text": [
      "Index([            'sentence',                'ytrue',                      2,\n",
      "                            3,                      4,                      5,\n",
      "                            6,                      7,                      8,\n",
      "                'predictions',                'match',                  '_id',\n",
      "                 'match_top2',           'match_top3',                 'top2',\n",
      "                       'top3',       'ytrue_emotions', 'predictions_emotions',\n",
      "               'classifier_1',         'classifier_2',         'classifier_3'],\n",
      "      dtype='object')\n"
     ]
    },
    {
     "data": {
      "text/plain": "                                            sentence  ytrue         2  \\\n0  When I understood that I was admitted to the U...    4.0 -4.143373   \n1  I broke a window of a neighbouring house and I...    1.0 -4.454488   \n2                         Got a big fish in fishing.    4.0 -3.871844   \n3  Whenever I am alone in a dark room, walk alone...    1.0 -4.045258   \n4  I bought a possible answer to a homework probl...    5.0 -4.648178   \n\n          3         4         5         6         7         8  predictions  \\\n0 -4.099311 -4.180825 -3.873905  3.270709 -3.883025 -3.976190          4.0   \n1  2.634034 -3.970481 -3.600777 -4.260800 -3.508614 -4.351669          1.0   \n2 -4.237987 -4.067472 -3.916490  3.443163 -4.022819 -3.743179          4.0   \n3  3.200204 -3.871938 -3.878467 -4.119332 -3.877209 -3.389095          1.0   \n4 -4.786387 -1.271109 -2.308218 -4.468682  0.195158 -2.507853          5.0   \n\n   ...  top3 ytrue_emotions  predictions_emotions  classifier_1  classifier_2  \\\n0  ...   5.0            joy                   joy             1             1   \n1  ...   3.0           fear                  fear             1             1   \n2  ...   0.0            joy                   joy             1             1   \n3  ...   2.0           fear                  fear             1             1   \n4  ...   3.0          shame                 shame             0             0   \n\n   classifier_3 top_2nd_recommendation_by_model  \\\n0             1                           guilt   \n1             1                           shame   \n2             1                         disgust   \n3             1                         disgust   \n4             0                           anger   \n\n  top_3rd_recommendation_by_model                  final  low_confidence  \n0                           shame                  [joy]               0  \n1                           guilt                 [fear]               0  \n2                         sadness                  [joy]               0  \n3                           anger                 [fear]               0  \n4                           guilt  [shame, anger, guilt]               1  \n\n[5 rows x 25 columns]",
      "text/html": "<div>\n<style scoped>\n    .dataframe tbody tr th:only-of-type {\n        vertical-align: middle;\n    }\n\n    .dataframe tbody tr th {\n        vertical-align: top;\n    }\n\n    .dataframe thead th {\n        text-align: right;\n    }\n</style>\n<table border=\"1\" class=\"dataframe\">\n  <thead>\n    <tr style=\"text-align: right;\">\n      <th></th>\n      <th>sentence</th>\n      <th>ytrue</th>\n      <th>2</th>\n      <th>3</th>\n      <th>4</th>\n      <th>5</th>\n      <th>6</th>\n      <th>7</th>\n      <th>8</th>\n      <th>predictions</th>\n      <th>...</th>\n      <th>top3</th>\n      <th>ytrue_emotions</th>\n      <th>predictions_emotions</th>\n      <th>classifier_1</th>\n      <th>classifier_2</th>\n      <th>classifier_3</th>\n      <th>top_2nd_recommendation_by_model</th>\n      <th>top_3rd_recommendation_by_model</th>\n      <th>final</th>\n      <th>low_confidence</th>\n    </tr>\n  </thead>\n  <tbody>\n    <tr>\n      <th>0</th>\n      <td>When I understood that I was admitted to the U...</td>\n      <td>4.0</td>\n      <td>-4.143373</td>\n      <td>-4.099311</td>\n      <td>-4.180825</td>\n      <td>-3.873905</td>\n      <td>3.270709</td>\n      <td>-3.883025</td>\n      <td>-3.976190</td>\n      <td>4.0</td>\n      <td>...</td>\n      <td>5.0</td>\n      <td>joy</td>\n      <td>joy</td>\n      <td>1</td>\n      <td>1</td>\n      <td>1</td>\n      <td>guilt</td>\n      <td>shame</td>\n      <td>[joy]</td>\n      <td>0</td>\n    </tr>\n    <tr>\n      <th>1</th>\n      <td>I broke a window of a neighbouring house and I...</td>\n      <td>1.0</td>\n      <td>-4.454488</td>\n      <td>2.634034</td>\n      <td>-3.970481</td>\n      <td>-3.600777</td>\n      <td>-4.260800</td>\n      <td>-3.508614</td>\n      <td>-4.351669</td>\n      <td>1.0</td>\n      <td>...</td>\n      <td>3.0</td>\n      <td>fear</td>\n      <td>fear</td>\n      <td>1</td>\n      <td>1</td>\n      <td>1</td>\n      <td>shame</td>\n      <td>guilt</td>\n      <td>[fear]</td>\n      <td>0</td>\n    </tr>\n    <tr>\n      <th>2</th>\n      <td>Got a big fish in fishing.</td>\n      <td>4.0</td>\n      <td>-3.871844</td>\n      <td>-4.237987</td>\n      <td>-4.067472</td>\n      <td>-3.916490</td>\n      <td>3.443163</td>\n      <td>-4.022819</td>\n      <td>-3.743179</td>\n      <td>4.0</td>\n      <td>...</td>\n      <td>0.0</td>\n      <td>joy</td>\n      <td>joy</td>\n      <td>1</td>\n      <td>1</td>\n      <td>1</td>\n      <td>disgust</td>\n      <td>sadness</td>\n      <td>[joy]</td>\n      <td>0</td>\n    </tr>\n    <tr>\n      <th>3</th>\n      <td>Whenever I am alone in a dark room, walk alone...</td>\n      <td>1.0</td>\n      <td>-4.045258</td>\n      <td>3.200204</td>\n      <td>-3.871938</td>\n      <td>-3.878467</td>\n      <td>-4.119332</td>\n      <td>-3.877209</td>\n      <td>-3.389095</td>\n      <td>1.0</td>\n      <td>...</td>\n      <td>2.0</td>\n      <td>fear</td>\n      <td>fear</td>\n      <td>1</td>\n      <td>1</td>\n      <td>1</td>\n      <td>disgust</td>\n      <td>anger</td>\n      <td>[fear]</td>\n      <td>0</td>\n    </tr>\n    <tr>\n      <th>4</th>\n      <td>I bought a possible answer to a homework probl...</td>\n      <td>5.0</td>\n      <td>-4.648178</td>\n      <td>-4.786387</td>\n      <td>-1.271109</td>\n      <td>-2.308218</td>\n      <td>-4.468682</td>\n      <td>0.195158</td>\n      <td>-2.507853</td>\n      <td>5.0</td>\n      <td>...</td>\n      <td>3.0</td>\n      <td>shame</td>\n      <td>shame</td>\n      <td>0</td>\n      <td>0</td>\n      <td>0</td>\n      <td>anger</td>\n      <td>guilt</td>\n      <td>[shame, anger, guilt]</td>\n      <td>1</td>\n    </tr>\n  </tbody>\n</table>\n<p>5 rows × 25 columns</p>\n</div>"
     },
     "execution_count": 5,
     "metadata": {},
     "output_type": "execute_result"
    }
   ],
   "source": [
    "\"\"\"Inference Cell\"\"\"\n",
    "sample = bert_all.head()\n",
    "output = inference(bert_output=sample)\n",
    "output"
   ],
   "metadata": {
    "collapsed": false,
    "pycharm": {
     "name": "#%%\n"
    }
   }
  },
  {
   "cell_type": "code",
   "execution_count": null,
   "outputs": [],
   "source": [],
   "metadata": {
    "collapsed": false,
    "pycharm": {
     "name": "#%%\n"
    }
   }
  }
 ],
 "metadata": {
  "kernelspec": {
   "display_name": "Python 3",
   "language": "python",
   "name": "python3"
  },
  "language_info": {
   "codemirror_mode": {
    "name": "ipython",
    "version": 2
   },
   "file_extension": ".py",
   "mimetype": "text/x-python",
   "name": "python",
   "nbconvert_exporter": "python",
   "pygments_lexer": "ipython2",
   "version": "2.7.6"
  }
 },
 "nbformat": 4,
 "nbformat_minor": 0
}